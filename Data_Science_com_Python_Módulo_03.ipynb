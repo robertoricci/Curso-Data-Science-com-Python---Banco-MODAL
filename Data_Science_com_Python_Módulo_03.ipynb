{
  "nbformat": 4,
  "nbformat_minor": 0,
  "metadata": {
    "colab": {
      "name": "Data Science com Python - Módulo 03.ipynb",
      "provenance": [],
      "authorship_tag": "ABX9TyPMxL/GWcAMvsiu3MY4o9qV",
      "include_colab_link": true
    },
    "kernelspec": {
      "name": "python3",
      "display_name": "Python 3"
    },
    "language_info": {
      "name": "python"
    }
  },
  "cells": [
    {
      "cell_type": "markdown",
      "metadata": {
        "id": "view-in-github",
        "colab_type": "text"
      },
      "source": [
        "<a href=\"https://colab.research.google.com/github/robertoricci/Curso-Data-Science-com-Python---Banco-MODAL/blob/main/Data_Science_com_Python_M%C3%B3dulo_03.ipynb\" target=\"_parent\"><img src=\"https://colab.research.google.com/assets/colab-badge.svg\" alt=\"Open In Colab\"/></a>"
      ]
    },
    {
      "cell_type": "markdown",
      "source": [
        "## Modulo 03 - Manipulação de Dados com Python"
      ],
      "metadata": {
        "id": "lX9_itpgcQHL"
      }
    },
    {
      "cell_type": "markdown",
      "source": [
        "O Objetivo deste Modulo e dar inicio ao processo de transformação e processamento de dados, para deixar no formato que precisamos antes de realizar a análise."
      ],
      "metadata": {
        "id": "PiDQozvaccMc"
      }
    },
    {
      "cell_type": "markdown",
      "source": [
        "#1. Bibliotecas"
      ],
      "metadata": {
        "id": "9fo-2Ni9dRF3"
      }
    },
    {
      "cell_type": "code",
      "source": [
        "#Bibliotecas\n",
        "!pip install datetime\n",
        "!pip install matplotlib plotly\n",
        "!pip install yfinance quandl"
      ],
      "metadata": {
        "colab": {
          "base_uri": "https://localhost:8080/"
        },
        "id": "jAz3BmH5cwNg",
        "outputId": "a83ba585-8212-49d2-9b78-b920893856e5"
      },
      "execution_count": 2,
      "outputs": [
        {
          "output_type": "stream",
          "name": "stdout",
          "text": [
            "Looking in indexes: https://pypi.org/simple, https://us-python.pkg.dev/colab-wheels/public/simple/\n",
            "Requirement already satisfied: datetime in /usr/local/lib/python3.7/dist-packages (4.4)\n",
            "Requirement already satisfied: pytz in /usr/local/lib/python3.7/dist-packages (from datetime) (2022.1)\n",
            "Requirement already satisfied: zope.interface in /usr/local/lib/python3.7/dist-packages (from datetime) (5.4.0)\n",
            "Requirement already satisfied: setuptools in /usr/local/lib/python3.7/dist-packages (from zope.interface->datetime) (57.4.0)\n",
            "Looking in indexes: https://pypi.org/simple, https://us-python.pkg.dev/colab-wheels/public/simple/\n",
            "Requirement already satisfied: matplotlib in /usr/local/lib/python3.7/dist-packages (3.2.2)\n",
            "Requirement already satisfied: plotly in /usr/local/lib/python3.7/dist-packages (5.5.0)\n",
            "Requirement already satisfied: cycler>=0.10 in /usr/local/lib/python3.7/dist-packages (from matplotlib) (0.11.0)\n",
            "Requirement already satisfied: kiwisolver>=1.0.1 in /usr/local/lib/python3.7/dist-packages (from matplotlib) (1.4.2)\n",
            "Requirement already satisfied: python-dateutil>=2.1 in /usr/local/lib/python3.7/dist-packages (from matplotlib) (2.8.2)\n",
            "Requirement already satisfied: numpy>=1.11 in /usr/local/lib/python3.7/dist-packages (from matplotlib) (1.21.6)\n",
            "Requirement already satisfied: pyparsing!=2.0.4,!=2.1.2,!=2.1.6,>=2.0.1 in /usr/local/lib/python3.7/dist-packages (from matplotlib) (3.0.9)\n",
            "Requirement already satisfied: typing-extensions in /usr/local/lib/python3.7/dist-packages (from kiwisolver>=1.0.1->matplotlib) (4.2.0)\n",
            "Requirement already satisfied: six>=1.5 in /usr/local/lib/python3.7/dist-packages (from python-dateutil>=2.1->matplotlib) (1.15.0)\n",
            "Requirement already satisfied: tenacity>=6.2.0 in /usr/local/lib/python3.7/dist-packages (from plotly) (8.0.1)\n",
            "Looking in indexes: https://pypi.org/simple, https://us-python.pkg.dev/colab-wheels/public/simple/\n",
            "Requirement already satisfied: yfinance in /usr/local/lib/python3.7/dist-packages (0.1.70)\n",
            "Collecting quandl\n",
            "  Downloading Quandl-3.7.0-py2.py3-none-any.whl (26 kB)\n",
            "Requirement already satisfied: pandas>=0.24.0 in /usr/local/lib/python3.7/dist-packages (from yfinance) (1.3.5)\n",
            "Requirement already satisfied: requests>=2.26 in /usr/local/lib/python3.7/dist-packages (from yfinance) (2.27.1)\n",
            "Requirement already satisfied: multitasking>=0.0.7 in /usr/local/lib/python3.7/dist-packages (from yfinance) (0.0.10)\n",
            "Requirement already satisfied: numpy>=1.15 in /usr/local/lib/python3.7/dist-packages (from yfinance) (1.21.6)\n",
            "Requirement already satisfied: lxml>=4.5.1 in /usr/local/lib/python3.7/dist-packages (from yfinance) (4.8.0)\n",
            "Requirement already satisfied: pytz>=2017.3 in /usr/local/lib/python3.7/dist-packages (from pandas>=0.24.0->yfinance) (2022.1)\n",
            "Requirement already satisfied: python-dateutil>=2.7.3 in /usr/local/lib/python3.7/dist-packages (from pandas>=0.24.0->yfinance) (2.8.2)\n",
            "Requirement already satisfied: six>=1.5 in /usr/local/lib/python3.7/dist-packages (from python-dateutil>=2.7.3->pandas>=0.24.0->yfinance) (1.15.0)\n",
            "Requirement already satisfied: urllib3<1.27,>=1.21.1 in /usr/local/lib/python3.7/dist-packages (from requests>=2.26->yfinance) (1.24.3)\n",
            "Requirement already satisfied: idna<4,>=2.5 in /usr/local/lib/python3.7/dist-packages (from requests>=2.26->yfinance) (2.10)\n",
            "Requirement already satisfied: charset-normalizer~=2.0.0 in /usr/local/lib/python3.7/dist-packages (from requests>=2.26->yfinance) (2.0.12)\n",
            "Requirement already satisfied: certifi>=2017.4.17 in /usr/local/lib/python3.7/dist-packages (from requests>=2.26->yfinance) (2022.5.18.1)\n",
            "Collecting inflection>=0.3.1\n",
            "  Downloading inflection-0.5.1-py2.py3-none-any.whl (9.5 kB)\n",
            "Requirement already satisfied: more-itertools in /usr/local/lib/python3.7/dist-packages (from quandl) (8.13.0)\n",
            "Installing collected packages: inflection, quandl\n",
            "Successfully installed inflection-0.5.1 quandl-3.7.0\n"
          ]
        }
      ]
    },
    {
      "cell_type": "code",
      "source": [
        "import pandas as pd\n",
        "import numpy as np\n",
        "\n",
        "import matplotlib.pyplot as plt\n",
        "import plotly.graph_objects as go\n",
        "#financeiros\n",
        "import yfinance as yf\n",
        "import quandl as ql\n",
        "\n"
      ],
      "metadata": {
        "id": "TFV9WCKudhcI"
      },
      "execution_count": 2,
      "outputs": []
    },
    {
      "cell_type": "markdown",
      "source": [
        "#2. Criar e organizar um dataframe"
      ],
      "metadata": {
        "id": "wik-5H-vebsg"
      }
    },
    {
      "cell_type": "markdown",
      "source": [
        "## 2.1. Dataframe simples, uma coluna"
      ],
      "metadata": {
        "id": "uwF17RDNejPn"
      }
    },
    {
      "cell_type": "markdown",
      "source": [
        "Api da Quandl (Nasdaq) vamos extrair dados da Selic"
      ],
      "metadata": {
        "id": "KMziXz9besif"
      }
    },
    {
      "cell_type": "code",
      "source": [
        "#api da quandl\n",
        "ql.ApiConfig.api_key = \"r-GnR-zeg2uWjtf9xWxh\"\n",
        "#os códigos referentes a cada papel / Moeda / Taxa de Juros podem ser obtidos na busca no SIte da Quandl\n",
        "#neste caso, a selic é representada por BCB/432\n",
        "selic = ql.get(\"BCB/432\",start_date ='2000-01-01', end_date = '2022-12-31')\n"
      ],
      "metadata": {
        "id": "xzM_AwN6e3jv"
      },
      "execution_count": 4,
      "outputs": []
    },
    {
      "cell_type": "code",
      "source": [
        "selic"
      ],
      "metadata": {
        "id": "mdhvUO9dhOkV",
        "outputId": "5a80ed63-4813-4dd8-84d4-457a5086dbf0",
        "colab": {
          "base_uri": "https://localhost:8080/",
          "height": 455
        }
      },
      "execution_count": 5,
      "outputs": [
        {
          "output_type": "execute_result",
          "data": {
            "text/plain": [
              "            Value\n",
              "Date             \n",
              "2000-01-01  19.00\n",
              "2000-01-02  19.00\n",
              "2000-01-03  19.00\n",
              "2000-01-04  19.00\n",
              "2000-01-05  19.00\n",
              "...           ...\n",
              "2022-05-19  12.75\n",
              "2022-05-20  12.75\n",
              "2022-05-21  12.75\n",
              "2022-05-22  12.75\n",
              "2022-05-23  12.75\n",
              "\n",
              "[8179 rows x 1 columns]"
            ],
            "text/html": [
              "\n",
              "  <div id=\"df-9c8dc92b-6e8b-4a0b-9ff5-f13a49221ef1\">\n",
              "    <div class=\"colab-df-container\">\n",
              "      <div>\n",
              "<style scoped>\n",
              "    .dataframe tbody tr th:only-of-type {\n",
              "        vertical-align: middle;\n",
              "    }\n",
              "\n",
              "    .dataframe tbody tr th {\n",
              "        vertical-align: top;\n",
              "    }\n",
              "\n",
              "    .dataframe thead th {\n",
              "        text-align: right;\n",
              "    }\n",
              "</style>\n",
              "<table border=\"1\" class=\"dataframe\">\n",
              "  <thead>\n",
              "    <tr style=\"text-align: right;\">\n",
              "      <th></th>\n",
              "      <th>Value</th>\n",
              "    </tr>\n",
              "    <tr>\n",
              "      <th>Date</th>\n",
              "      <th></th>\n",
              "    </tr>\n",
              "  </thead>\n",
              "  <tbody>\n",
              "    <tr>\n",
              "      <th>2000-01-01</th>\n",
              "      <td>19.00</td>\n",
              "    </tr>\n",
              "    <tr>\n",
              "      <th>2000-01-02</th>\n",
              "      <td>19.00</td>\n",
              "    </tr>\n",
              "    <tr>\n",
              "      <th>2000-01-03</th>\n",
              "      <td>19.00</td>\n",
              "    </tr>\n",
              "    <tr>\n",
              "      <th>2000-01-04</th>\n",
              "      <td>19.00</td>\n",
              "    </tr>\n",
              "    <tr>\n",
              "      <th>2000-01-05</th>\n",
              "      <td>19.00</td>\n",
              "    </tr>\n",
              "    <tr>\n",
              "      <th>...</th>\n",
              "      <td>...</td>\n",
              "    </tr>\n",
              "    <tr>\n",
              "      <th>2022-05-19</th>\n",
              "      <td>12.75</td>\n",
              "    </tr>\n",
              "    <tr>\n",
              "      <th>2022-05-20</th>\n",
              "      <td>12.75</td>\n",
              "    </tr>\n",
              "    <tr>\n",
              "      <th>2022-05-21</th>\n",
              "      <td>12.75</td>\n",
              "    </tr>\n",
              "    <tr>\n",
              "      <th>2022-05-22</th>\n",
              "      <td>12.75</td>\n",
              "    </tr>\n",
              "    <tr>\n",
              "      <th>2022-05-23</th>\n",
              "      <td>12.75</td>\n",
              "    </tr>\n",
              "  </tbody>\n",
              "</table>\n",
              "<p>8179 rows × 1 columns</p>\n",
              "</div>\n",
              "      <button class=\"colab-df-convert\" onclick=\"convertToInteractive('df-9c8dc92b-6e8b-4a0b-9ff5-f13a49221ef1')\"\n",
              "              title=\"Convert this dataframe to an interactive table.\"\n",
              "              style=\"display:none;\">\n",
              "        \n",
              "  <svg xmlns=\"http://www.w3.org/2000/svg\" height=\"24px\"viewBox=\"0 0 24 24\"\n",
              "       width=\"24px\">\n",
              "    <path d=\"M0 0h24v24H0V0z\" fill=\"none\"/>\n",
              "    <path d=\"M18.56 5.44l.94 2.06.94-2.06 2.06-.94-2.06-.94-.94-2.06-.94 2.06-2.06.94zm-11 1L8.5 8.5l.94-2.06 2.06-.94-2.06-.94L8.5 2.5l-.94 2.06-2.06.94zm10 10l.94 2.06.94-2.06 2.06-.94-2.06-.94-.94-2.06-.94 2.06-2.06.94z\"/><path d=\"M17.41 7.96l-1.37-1.37c-.4-.4-.92-.59-1.43-.59-.52 0-1.04.2-1.43.59L10.3 9.45l-7.72 7.72c-.78.78-.78 2.05 0 2.83L4 21.41c.39.39.9.59 1.41.59.51 0 1.02-.2 1.41-.59l7.78-7.78 2.81-2.81c.8-.78.8-2.07 0-2.86zM5.41 20L4 18.59l7.72-7.72 1.47 1.35L5.41 20z\"/>\n",
              "  </svg>\n",
              "      </button>\n",
              "      \n",
              "  <style>\n",
              "    .colab-df-container {\n",
              "      display:flex;\n",
              "      flex-wrap:wrap;\n",
              "      gap: 12px;\n",
              "    }\n",
              "\n",
              "    .colab-df-convert {\n",
              "      background-color: #E8F0FE;\n",
              "      border: none;\n",
              "      border-radius: 50%;\n",
              "      cursor: pointer;\n",
              "      display: none;\n",
              "      fill: #1967D2;\n",
              "      height: 32px;\n",
              "      padding: 0 0 0 0;\n",
              "      width: 32px;\n",
              "    }\n",
              "\n",
              "    .colab-df-convert:hover {\n",
              "      background-color: #E2EBFA;\n",
              "      box-shadow: 0px 1px 2px rgba(60, 64, 67, 0.3), 0px 1px 3px 1px rgba(60, 64, 67, 0.15);\n",
              "      fill: #174EA6;\n",
              "    }\n",
              "\n",
              "    [theme=dark] .colab-df-convert {\n",
              "      background-color: #3B4455;\n",
              "      fill: #D2E3FC;\n",
              "    }\n",
              "\n",
              "    [theme=dark] .colab-df-convert:hover {\n",
              "      background-color: #434B5C;\n",
              "      box-shadow: 0px 1px 3px 1px rgba(0, 0, 0, 0.15);\n",
              "      filter: drop-shadow(0px 1px 2px rgba(0, 0, 0, 0.3));\n",
              "      fill: #FFFFFF;\n",
              "    }\n",
              "  </style>\n",
              "\n",
              "      <script>\n",
              "        const buttonEl =\n",
              "          document.querySelector('#df-9c8dc92b-6e8b-4a0b-9ff5-f13a49221ef1 button.colab-df-convert');\n",
              "        buttonEl.style.display =\n",
              "          google.colab.kernel.accessAllowed ? 'block' : 'none';\n",
              "\n",
              "        async function convertToInteractive(key) {\n",
              "          const element = document.querySelector('#df-9c8dc92b-6e8b-4a0b-9ff5-f13a49221ef1');\n",
              "          const dataTable =\n",
              "            await google.colab.kernel.invokeFunction('convertToInteractive',\n",
              "                                                     [key], {});\n",
              "          if (!dataTable) return;\n",
              "\n",
              "          const docLinkHtml = 'Like what you see? Visit the ' +\n",
              "            '<a target=\"_blank\" href=https://colab.research.google.com/notebooks/data_table.ipynb>data table notebook</a>'\n",
              "            + ' to learn more about interactive tables.';\n",
              "          element.innerHTML = '';\n",
              "          dataTable['output_type'] = 'display_data';\n",
              "          await google.colab.output.renderOutput(dataTable, element);\n",
              "          const docLink = document.createElement('div');\n",
              "          docLink.innerHTML = docLinkHtml;\n",
              "          element.appendChild(docLink);\n",
              "        }\n",
              "      </script>\n",
              "    </div>\n",
              "  </div>\n",
              "  "
            ]
          },
          "metadata": {},
          "execution_count": 5
        }
      ]
    },
    {
      "cell_type": "code",
      "source": [
        "plt.figure(figsize = (10,8))\n",
        "plt.plot(selic)\n",
        "plt.show()"
      ],
      "metadata": {
        "id": "s32QOzeIiMbl",
        "outputId": "45aedc65-4ff5-44e7-87fa-2e49ee00d8be",
        "colab": {
          "base_uri": "https://localhost:8080/",
          "height": 483
        }
      },
      "execution_count": 7,
      "outputs": [
        {
          "output_type": "display_data",
          "data": {
            "text/plain": [
              "<Figure size 720x576 with 1 Axes>"
            ],
            "image/png": "[encoded data removed]"
          },
          "metadata": {
            "needs_background": "light"
          }
        }
      ]
    },
    {
      "cell_type": "code",
      "source": [
        "selic.head()"
      ],
      "metadata": {
        "id": "vT3d8nXWij-e",
        "outputId": "8b6202b7-3e75-44d4-cb85-659d0ae94199",
        "colab": {
          "base_uri": "https://localhost:8080/",
          "height": 237
        }
      },
      "execution_count": 8,
      "outputs": [
        {
          "output_type": "execute_result",
          "data": {
            "text/plain": [
              "            Value\n",
              "Date             \n",
              "2000-01-01   19.0\n",
              "2000-01-02   19.0\n",
              "2000-01-03   19.0\n",
              "2000-01-04   19.0\n",
              "2000-01-05   19.0"
            ],
            "text/html": [
              "\n",
              "  <div id=\"df-86118347-3d37-4e75-971a-f38fb49c677c\">\n",
              "    <div class=\"colab-df-container\">\n",
              "      <div>\n",
              "<style scoped>\n",
              "    .dataframe tbody tr th:only-of-type {\n",
              "        vertical-align: middle;\n",
              "    }\n",
              "\n",
              "    .dataframe tbody tr th {\n",
              "        vertical-align: top;\n",
              "    }\n",
              "\n",
              "    .dataframe thead th {\n",
              "        text-align: right;\n",
              "    }\n",
              "</style>\n",
              "<table border=\"1\" class=\"dataframe\">\n",
              "  <thead>\n",
              "    <tr style=\"text-align: right;\">\n",
              "      <th></th>\n",
              "      <th>Value</th>\n",
              "    </tr>\n",
              "    <tr>\n",
              "      <th>Date</th>\n",
              "      <th></th>\n",
              "    </tr>\n",
              "  </thead>\n",
              "  <tbody>\n",
              "    <tr>\n",
              "      <th>2000-01-01</th>\n",
              "      <td>19.0</td>\n",
              "    </tr>\n",
              "    <tr>\n",
              "      <th>2000-01-02</th>\n",
              "      <td>19.0</td>\n",
              "    </tr>\n",
              "    <tr>\n",
              "      <th>2000-01-03</th>\n",
              "      <td>19.0</td>\n",
              "    </tr>\n",
              "    <tr>\n",
              "      <th>2000-01-04</th>\n",
              "      <td>19.0</td>\n",
              "    </tr>\n",
              "    <tr>\n",
              "      <th>2000-01-05</th>\n",
              "      <td>19.0</td>\n",
              "    </tr>\n",
              "  </tbody>\n",
              "</table>\n",
              "</div>\n",
              "      <button class=\"colab-df-convert\" onclick=\"convertToInteractive('df-86118347-3d37-4e75-971a-f38fb49c677c')\"\n",
              "              title=\"Convert this dataframe to an interactive table.\"\n",
              "              style=\"display:none;\">\n",
              "        \n",
              "  <svg xmlns=\"http://www.w3.org/2000/svg\" height=\"24px\"viewBox=\"0 0 24 24\"\n",
              "       width=\"24px\">\n",
              "    <path d=\"M0 0h24v24H0V0z\" fill=\"none\"/>\n",
              "    <path d=\"M18.56 5.44l.94 2.06.94-2.06 2.06-.94-2.06-.94-.94-2.06-.94 2.06-2.06.94zm-11 1L8.5 8.5l.94-2.06 2.06-.94-2.06-.94L8.5 2.5l-.94 2.06-2.06.94zm10 10l.94 2.06.94-2.06 2.06-.94-2.06-.94-.94-2.06-.94 2.06-2.06.94z\"/><path d=\"M17.41 7.96l-1.37-1.37c-.4-.4-.92-.59-1.43-.59-.52 0-1.04.2-1.43.59L10.3 9.45l-7.72 7.72c-.78.78-.78 2.05 0 2.83L4 21.41c.39.39.9.59 1.41.59.51 0 1.02-.2 1.41-.59l7.78-7.78 2.81-2.81c.8-.78.8-2.07 0-2.86zM5.41 20L4 18.59l7.72-7.72 1.47 1.35L5.41 20z\"/>\n",
              "  </svg>\n",
              "      </button>\n",
              "      \n",
              "  <style>\n",
              "    .colab-df-container {\n",
              "      display:flex;\n",
              "      flex-wrap:wrap;\n",
              "      gap: 12px;\n",
              "    }\n",
              "\n",
              "    .colab-df-convert {\n",
              "      background-color: #E8F0FE;\n",
              "      border: none;\n",
              "      border-radius: 50%;\n",
              "      cursor: pointer;\n",
              "      display: none;\n",
              "      fill: #1967D2;\n",
              "      height: 32px;\n",
              "      padding: 0 0 0 0;\n",
              "      width: 32px;\n",
              "    }\n",
              "\n",
              "    .colab-df-convert:hover {\n",
              "      background-color: #E2EBFA;\n",
              "      box-shadow: 0px 1px 2px rgba(60, 64, 67, 0.3), 0px 1px 3px 1px rgba(60, 64, 67, 0.15);\n",
              "      fill: #174EA6;\n",
              "    }\n",
              "\n",
              "    [theme=dark] .colab-df-convert {\n",
              "      background-color: #3B4455;\n",
              "      fill: #D2E3FC;\n",
              "    }\n",
              "\n",
              "    [theme=dark] .colab-df-convert:hover {\n",
              "      background-color: #434B5C;\n",
              "      box-shadow: 0px 1px 3px 1px rgba(0, 0, 0, 0.15);\n",
              "      filter: drop-shadow(0px 1px 2px rgba(0, 0, 0, 0.3));\n",
              "      fill: #FFFFFF;\n",
              "    }\n",
              "  </style>\n",
              "\n",
              "      <script>\n",
              "        const buttonEl =\n",
              "          document.querySelector('#df-86118347-3d37-4e75-971a-f38fb49c677c button.colab-df-convert');\n",
              "        buttonEl.style.display =\n",
              "          google.colab.kernel.accessAllowed ? 'block' : 'none';\n",
              "\n",
              "        async function convertToInteractive(key) {\n",
              "          const element = document.querySelector('#df-86118347-3d37-4e75-971a-f38fb49c677c');\n",
              "          const dataTable =\n",
              "            await google.colab.kernel.invokeFunction('convertToInteractive',\n",
              "                                                     [key], {});\n",
              "          if (!dataTable) return;\n",
              "\n",
              "          const docLinkHtml = 'Like what you see? Visit the ' +\n",
              "            '<a target=\"_blank\" href=https://colab.research.google.com/notebooks/data_table.ipynb>data table notebook</a>'\n",
              "            + ' to learn more about interactive tables.';\n",
              "          element.innerHTML = '';\n",
              "          dataTable['output_type'] = 'display_data';\n",
              "          await google.colab.output.renderOutput(dataTable, element);\n",
              "          const docLink = document.createElement('div');\n",
              "          docLink.innerHTML = docLinkHtml;\n",
              "          element.appendChild(docLink);\n",
              "        }\n",
              "      </script>\n",
              "    </div>\n",
              "  </div>\n",
              "  "
            ]
          },
          "metadata": {},
          "execution_count": 8
        }
      ]
    },
    {
      "cell_type": "markdown",
      "source": [
        "##2.2 Filtros Simples"
      ],
      "metadata": {
        "id": "PN0nDLjQjAcr"
      }
    },
    {
      "cell_type": "markdown",
      "source": [
        "Método .loc para fazer filtros\n",
        "Filtrando a Selic em dia "
      ],
      "metadata": {
        "id": "d0CrPflxjF7M"
      }
    },
    {
      "cell_type": "code",
      "source": [
        "selic_filtrada = selic.loc['2021-05-26']\n",
        "selic_filtrada"
      ],
      "metadata": {
        "id": "Vi_GPVITjPGS",
        "outputId": "66873f31-c370-4a9d-c2b7-6bce84b79847",
        "colab": {
          "base_uri": "https://localhost:8080/"
        }
      },
      "execution_count": 10,
      "outputs": [
        {
          "output_type": "execute_result",
          "data": {
            "text/plain": [
              "Value    3.5\n",
              "Name: 2021-05-26 00:00:00, dtype: float64"
            ]
          },
          "metadata": {},
          "execution_count": 10
        }
      ]
    },
    {
      "cell_type": "code",
      "source": [
        "#Para obter os dados entre duas datas\n",
        "selic_filtrada = selic.loc['2019-03-26':'2021-05-26']\n",
        "selic_filtrada.plot()"
      ],
      "metadata": {
        "id": "UxaIYwQ-jp5M",
        "outputId": "83444db7-76ba-4168-dcd7-525a15c4ff4e",
        "colab": {
          "base_uri": "https://localhost:8080/",
          "height": 309
        }
      },
      "execution_count": 13,
      "outputs": [
        {
          "output_type": "execute_result",
          "data": {
            "text/plain": [
              "<matplotlib.axes._subplots.AxesSubplot at 0x7fc4d907e790>"
            ]
          },
          "metadata": {},
          "execution_count": 13
        },
        {
          "output_type": "display_data",
          "data": {
            "text/plain": [
              "<Figure size 432x288 with 1 Axes>"
            ],
            "image/png": "[encoded data removed]"
          },
          "metadata": {
            "needs_background": "light"
          }
        }
      ]
    },
    {
      "cell_type": "code",
      "source": [
        "#Filtrando a partir de uma data especifica a indo até o ultimo dia Disponivel\n",
        "selic_filtrada = selic.loc['2019-03-26':]\n",
        "selic_filtrada.plot()"
      ],
      "metadata": {
        "id": "URfm2Y1Fju2T",
        "outputId": "03b17ecf-2897-45df-8f25-a6716f21863c",
        "colab": {
          "base_uri": "https://localhost:8080/",
          "height": 309
        }
      },
      "execution_count": 14,
      "outputs": [
        {
          "output_type": "execute_result",
          "data": {
            "text/plain": [
              "<matplotlib.axes._subplots.AxesSubplot at 0x7fc4d8930d90>"
            ]
          },
          "metadata": {},
          "execution_count": 14
        },
        {
          "output_type": "display_data",
          "data": {
            "text/plain": [
              "<Figure size 432x288 with 1 Axes>"
            ],
            "image/png": "[encoded data removed]"
          },
          "metadata": {
            "needs_background": "light"
          }
        }
      ]
    },
    {
      "cell_type": "code",
      "source": [
        "#Filtrando a partir do indo até a uma data especifica\n",
        "selic_filtrada = selic.loc[:'2019-03-26']\n",
        "selic_filtrada.plot()"
      ],
      "metadata": {
        "id": "x8-96U5Xkh-j",
        "outputId": "6869259c-de26-42a5-a959-850fa0be1d9e",
        "colab": {
          "base_uri": "https://localhost:8080/",
          "height": 301
        }
      },
      "execution_count": 15,
      "outputs": [
        {
          "output_type": "execute_result",
          "data": {
            "text/plain": [
              "<matplotlib.axes._subplots.AxesSubplot at 0x7fc4d88dd290>"
            ]
          },
          "metadata": {},
          "execution_count": 15
        },
        {
          "output_type": "display_data",
          "data": {
            "text/plain": [
              "<Figure size 432x288 with 1 Axes>"
            ],
            "image/png": "[encoded data removed]"
          },
          "metadata": {
            "needs_background": "light"
          }
        }
      ]
    },
    {
      "cell_type": "markdown",
      "source": [
        "O Método .*iloc*\n",
        "O .iloc é utilizado quando o filtro deve ser feito com a posição da linha dentro do nosso dataframe\n",
        "Por exemplo, caso precise da linha 0 ou linha 1. Ou mesmo se precisar de 200 até a linha 500.\n",
        "Exemplos:\n"
      ],
      "metadata": {
        "id": "WG6k-zMHoftf"
      }
    },
    {
      "cell_type": "code",
      "source": [
        "#Obtendo a linha 0 (primeiro linha,excluindo o cabeçalho)\n",
        "selic_filtrada = selic.iloc[0]\n",
        "selic_filtrada"
      ],
      "metadata": {
        "id": "_VYYPJqZpHYf",
        "outputId": "4ef6d4f3-2e5a-43c5-bbb0-f34d87094955",
        "colab": {
          "base_uri": "https://localhost:8080/"
        }
      },
      "execution_count": 17,
      "outputs": [
        {
          "output_type": "execute_result",
          "data": {
            "text/plain": [
              "Value    19.0\n",
              "Name: 2000-01-01 00:00:00, dtype: float64"
            ]
          },
          "metadata": {},
          "execution_count": 17
        }
      ]
    },
    {
      "cell_type": "code",
      "source": [
        "#Obtendo a linha 1 (indexação no python começa em 0)\n",
        "selic_filtrada = selic.iloc[1]\n",
        "selic_filtrada"
      ],
      "metadata": {
        "id": "pUelrJp0qjeM",
        "outputId": "ca20df4e-a0bb-4de2-b23f-dee1abff5506",
        "colab": {
          "base_uri": "https://localhost:8080/"
        }
      },
      "execution_count": 19,
      "outputs": [
        {
          "output_type": "execute_result",
          "data": {
            "text/plain": [
              "Value    19.0\n",
              "Name: 2000-01-02 00:00:00, dtype: float64"
            ]
          },
          "metadata": {},
          "execution_count": 19
        }
      ]
    },
    {
      "cell_type": "code",
      "source": [
        "#Obtendo a linha 200 (indexação no python começa em 0)\n",
        "selic_filtrada = selic.iloc[200]\n",
        "selic_filtrada"
      ],
      "metadata": {
        "id": "VflLF_CorBEW",
        "outputId": "e48b5b69-96a1-4a05-f262-c61e3469ecbe",
        "colab": {
          "base_uri": "https://localhost:8080/"
        }
      },
      "execution_count": 20,
      "outputs": [
        {
          "output_type": "execute_result",
          "data": {
            "text/plain": [
              "Value    17.0\n",
              "Name: 2000-07-19 00:00:00, dtype: float64"
            ]
          },
          "metadata": {},
          "execution_count": 20
        }
      ]
    },
    {
      "cell_type": "code",
      "source": [
        "#Obtendo ultima linha \n",
        "selic_filtrada = selic.iloc[-1]\n",
        "selic_filtrada"
      ],
      "metadata": {
        "id": "Vlb-fkfXrHrO",
        "outputId": "cdec9897-b15e-4668-98a1-df015ea94b05",
        "colab": {
          "base_uri": "https://localhost:8080/"
        }
      },
      "execution_count": 21,
      "outputs": [
        {
          "output_type": "execute_result",
          "data": {
            "text/plain": [
              "Value    12.75\n",
              "Name: 2022-05-23 00:00:00, dtype: float64"
            ]
          },
          "metadata": {},
          "execution_count": 21
        }
      ]
    },
    {
      "cell_type": "code",
      "source": [
        "#Obtendo a linha 20 a 200 (indexação no python começa em 0)\n",
        "selic_filtrada = selic.iloc[20:200]\n",
        "selic_filtrada.plot()"
      ],
      "metadata": {
        "id": "7MO1kfl1rXUk",
        "outputId": "35d58d01-d3dd-4d27-9c61-ada239d95a3d",
        "colab": {
          "base_uri": "https://localhost:8080/",
          "height": 309
        }
      },
      "execution_count": 23,
      "outputs": [
        {
          "output_type": "execute_result",
          "data": {
            "text/plain": [
              "<matplotlib.axes._subplots.AxesSubplot at 0x7fc4d8758b50>"
            ]
          },
          "metadata": {},
          "execution_count": 23
        },
        {
          "output_type": "display_data",
          "data": {
            "text/plain": [
              "<Figure size 432x288 with 1 Axes>"
            ],
            "image/png": "[encoded data removed]"
          },
          "metadata": {
            "needs_background": "light"
          }
        }
      ]
    },
    {
      "cell_type": "code",
      "source": [
        "#Obtendo ate a linha 200 \n",
        "selic_filtrada = selic.iloc[:200]\n",
        "selic_filtrada.plot()"
      ],
      "metadata": {
        "id": "hNQOQjdBr8Lm",
        "outputId": "e31b8c65-4a2c-49e3-a63a-891029cdeb7c",
        "colab": {
          "base_uri": "https://localhost:8080/",
          "height": 309
        }
      },
      "execution_count": 24,
      "outputs": [
        {
          "output_type": "execute_result",
          "data": {
            "text/plain": [
              "<matplotlib.axes._subplots.AxesSubplot at 0x7fc4d863e5d0>"
            ]
          },
          "metadata": {},
          "execution_count": 24
        },
        {
          "output_type": "display_data",
          "data": {
            "text/plain": [
              "<Figure size 432x288 with 1 Axes>"
            ],
            "image/png": "[encoded data removed]"
          },
          "metadata": {
            "needs_background": "light"
          }
        }
      ]
    },
    {
      "cell_type": "markdown",
      "source": [
        "#2.3 Noções importantes de dataframes"
      ],
      "metadata": {
        "id": "8BZ9kkUSsLvN"
      }
    },
    {
      "cell_type": "markdown",
      "source": [
        "Para demonstrar manipulações de dados em um dataframe de várias colunas, vamos extrair os dados das ações que compõem o IBOV\n",
        "\n",
        "Para saber a composição atualizada do IBOV, acesse o link:\n",
        "https://www.b3.com.br/pt_br/market-data-e-indices/indices/indices-amplos/indice-ibovespa-ibovespa-composicao-da-carteira.htm"
      ],
      "metadata": {
        "id": "01nGuncNtks3"
      }
    },
    {
      "cell_type": "markdown",
      "source": [
        "Os ativos que compõem o IBOV são os seguintes:\n",
        "\n",
        "\n",
        "['WEGE3', 'EMBR3', 'AZUL4', 'CCRO3', 'ECOR3', 'GOLL4', 'RAIL3', 'POSI3', 'BRFS3', 'JBSS3', 'MRFG3', 'BEEF3', 'ABEV3', 'ASAI3', 'CRFB3', 'PCAR3', 'NTCO3', 'AMER3', 'SOMA3', 'LREN3', 'MGLU3', 'PETZ3', 'VIIA3', 'ALPA4', 'CYRE3', 'EZTC3', 'JHSF3', 'MRVE3', 'CVCB3', 'COGN3', 'RENT3', 'LCAM3', 'YDUQ3', 'BRML3', 'IGTI11', 'MULT3', 'BIDI11', 'BPAN4', 'BBDC3', 'BBDC4', 'BBAS3', 'BPAC11', 'ITSA4', 'ITUB4', 'SANB11', 'BBSE3', 'IRBR3', 'SULA11', 'B3SA3', 'CIEL3', 'DXCO3', 'KLBN11', 'SUZB3', 'BRAP4', 'CMIN3', 'VALE3', 'BRKM5', 'GGBR4', 'GOAU4', 'CSNA3', 'USIM5', 'RRRP3', 'CSAN3', 'PETR3', 'PETR4', 'PRIO3', 'UGPA3', 'VBBR3', 'HYPE3', 'RADL3', 'FLRY3', 'HAPV3', 'GNDI3', 'QUAL3', 'RDOR3', 'LWSA3', 'CASH3', 'TOTS3', 'VIVT3', 'TIMS3', 'SBSP3', 'CMIG4', 'CPLE6', 'CPFE3', 'ELET3', 'ELET6', 'ENBR3', 'ENGI11', 'ENEV3', 'EGIE3', 'EQTL3', 'TAEE11']"
      ],
      "metadata": {
        "id": "SeTU8VfHtogS"
      }
    },
    {
      "cell_type": "code",
      "source": [
        "tickers_IBOV = ['WEGE3', 'EMBR3', 'AZUL4', 'CCRO3', 'ECOR3', 'GOLL4', 'RAIL3', 'POSI3', 'BRFS3', 'JBSS3', 'MRFG3', 'BEEF3', 'ABEV3', 'ASAI3', 'CRFB3', 'PCAR3', 'NTCO3', 'AMER3', 'SOMA3', 'LREN3', 'MGLU3', 'PETZ3', 'VIIA3', 'ALPA4', 'CYRE3', 'EZTC3', 'JHSF3', 'MRVE3', 'CVCB3', 'COGN3', 'RENT3', 'LCAM3', 'YDUQ3', 'BRML3', 'IGTI11', 'MULT3', 'BIDI11', 'BPAN4', 'BBDC3', 'BBDC4', 'BBAS3', 'BPAC11', 'ITSA4', 'ITUB4', 'SANB11', 'BBSE3', 'IRBR3', 'SULA11', 'B3SA3', 'CIEL3', 'DXCO3', 'KLBN11', 'SUZB3', 'BRAP4', 'CMIN3', 'VALE3', 'BRKM5', 'GGBR4', 'GOAU4', 'CSNA3', 'USIM5', 'RRRP3', 'CSAN3', 'PETR3', 'PETR4', 'PRIO3', 'UGPA3', 'VBBR3', 'HYPE3', 'RADL3', 'FLRY3', 'HAPV3', 'GNDI3', 'QUAL3', 'RDOR3', 'LWSA3', 'CASH3', 'TOTS3', 'VIVT3', 'TIMS3', 'SBSP3', 'CMIG4', 'CPLE6', 'CPFE3', 'ELET3', 'ELET6', 'ENBR3', 'ENGI11', 'ENEV3', 'EGIE3', 'EQTL3', 'TAEE11']"
      ],
      "metadata": {
        "id": "7kJliPdbtwkJ"
      },
      "execution_count": 30,
      "outputs": []
    },
    {
      "cell_type": "code",
      "source": [
        "tickers_IBOV"
      ],
      "metadata": {
        "id": "Cn4TJ941tyfU",
        "outputId": "1adfce13-30c8-4a9e-e1f0-55a9315c2334",
        "colab": {
          "base_uri": "https://localhost:8080/"
        }
      },
      "execution_count": 31,
      "outputs": [
        {
          "output_type": "execute_result",
          "data": {
            "text/plain": [
              "['WEGE3',\n",
              " 'EMBR3',\n",
              " 'AZUL4',\n",
              " 'CCRO3',\n",
              " 'ECOR3',\n",
              " 'GOLL4',\n",
              " 'RAIL3',\n",
              " 'POSI3',\n",
              " 'BRFS3',\n",
              " 'JBSS3',\n",
              " 'MRFG3',\n",
              " 'BEEF3',\n",
              " 'ABEV3',\n",
              " 'ASAI3',\n",
              " 'CRFB3',\n",
              " 'PCAR3',\n",
              " 'NTCO3',\n",
              " 'AMER3',\n",
              " 'SOMA3',\n",
              " 'LREN3',\n",
              " 'MGLU3',\n",
              " 'PETZ3',\n",
              " 'VIIA3',\n",
              " 'ALPA4',\n",
              " 'CYRE3',\n",
              " 'EZTC3',\n",
              " 'JHSF3',\n",
              " 'MRVE3',\n",
              " 'CVCB3',\n",
              " 'COGN3',\n",
              " 'RENT3',\n",
              " 'LCAM3',\n",
              " 'YDUQ3',\n",
              " 'BRML3',\n",
              " 'IGTI11',\n",
              " 'MULT3',\n",
              " 'BIDI11',\n",
              " 'BPAN4',\n",
              " 'BBDC3',\n",
              " 'BBDC4',\n",
              " 'BBAS3',\n",
              " 'BPAC11',\n",
              " 'ITSA4',\n",
              " 'ITUB4',\n",
              " 'SANB11',\n",
              " 'BBSE3',\n",
              " 'IRBR3',\n",
              " 'SULA11',\n",
              " 'B3SA3',\n",
              " 'CIEL3',\n",
              " 'DXCO3',\n",
              " 'KLBN11',\n",
              " 'SUZB3',\n",
              " 'BRAP4',\n",
              " 'CMIN3',\n",
              " 'VALE3',\n",
              " 'BRKM5',\n",
              " 'GGBR4',\n",
              " 'GOAU4',\n",
              " 'CSNA3',\n",
              " 'USIM5',\n",
              " 'RRRP3',\n",
              " 'CSAN3',\n",
              " 'PETR3',\n",
              " 'PETR4',\n",
              " 'PRIO3',\n",
              " 'UGPA3',\n",
              " 'VBBR3',\n",
              " 'HYPE3',\n",
              " 'RADL3',\n",
              " 'FLRY3',\n",
              " 'HAPV3',\n",
              " 'GNDI3',\n",
              " 'QUAL3',\n",
              " 'RDOR3',\n",
              " 'LWSA3',\n",
              " 'CASH3',\n",
              " 'TOTS3',\n",
              " 'VIVT3',\n",
              " 'TIMS3',\n",
              " 'SBSP3',\n",
              " 'CMIG4',\n",
              " 'CPLE6',\n",
              " 'CPFE3',\n",
              " 'ELET3',\n",
              " 'ELET6',\n",
              " 'ENBR3',\n",
              " 'ENGI11',\n",
              " 'ENEV3',\n",
              " 'EGIE3',\n",
              " 'EQTL3',\n",
              " 'TAEE11']"
            ]
          },
          "metadata": {},
          "execution_count": 31
        }
      ]
    },
    {
      "cell_type": "code",
      "source": [
        "tickers_IBOV.sort()\n",
        "tickers_IBOV"
      ],
      "metadata": {
        "id": "dKLlP0CYt2qU",
        "outputId": "0671f99b-877a-40e1-fab3-0a5f4f81f4b2",
        "colab": {
          "base_uri": "https://localhost:8080/"
        }
      },
      "execution_count": 33,
      "outputs": [
        {
          "output_type": "execute_result",
          "data": {
            "text/plain": [
              "['ABEV3',\n",
              " 'ALPA4',\n",
              " 'AMER3',\n",
              " 'ASAI3',\n",
              " 'AZUL4',\n",
              " 'B3SA3',\n",
              " 'BBAS3',\n",
              " 'BBDC3',\n",
              " 'BBDC4',\n",
              " 'BBSE3',\n",
              " 'BEEF3',\n",
              " 'BIDI11',\n",
              " 'BPAC11',\n",
              " 'BPAN4',\n",
              " 'BRAP4',\n",
              " 'BRFS3',\n",
              " 'BRKM5',\n",
              " 'BRML3',\n",
              " 'CASH3',\n",
              " 'CCRO3',\n",
              " 'CIEL3',\n",
              " 'CMIG4',\n",
              " 'CMIN3',\n",
              " 'COGN3',\n",
              " 'CPFE3',\n",
              " 'CPLE6',\n",
              " 'CRFB3',\n",
              " 'CSAN3',\n",
              " 'CSNA3',\n",
              " 'CVCB3',\n",
              " 'CYRE3',\n",
              " 'DXCO3',\n",
              " 'ECOR3',\n",
              " 'EGIE3',\n",
              " 'ELET3',\n",
              " 'ELET6',\n",
              " 'EMBR3',\n",
              " 'ENBR3',\n",
              " 'ENEV3',\n",
              " 'ENGI11',\n",
              " 'EQTL3',\n",
              " 'EZTC3',\n",
              " 'FLRY3',\n",
              " 'GGBR4',\n",
              " 'GNDI3',\n",
              " 'GOAU4',\n",
              " 'GOLL4',\n",
              " 'HAPV3',\n",
              " 'HYPE3',\n",
              " 'IGTI11',\n",
              " 'IRBR3',\n",
              " 'ITSA4',\n",
              " 'ITUB4',\n",
              " 'JBSS3',\n",
              " 'JHSF3',\n",
              " 'KLBN11',\n",
              " 'LCAM3',\n",
              " 'LREN3',\n",
              " 'LWSA3',\n",
              " 'MGLU3',\n",
              " 'MRFG3',\n",
              " 'MRVE3',\n",
              " 'MULT3',\n",
              " 'NTCO3',\n",
              " 'PCAR3',\n",
              " 'PETR3',\n",
              " 'PETR4',\n",
              " 'PETZ3',\n",
              " 'POSI3',\n",
              " 'PRIO3',\n",
              " 'QUAL3',\n",
              " 'RADL3',\n",
              " 'RAIL3',\n",
              " 'RDOR3',\n",
              " 'RENT3',\n",
              " 'RRRP3',\n",
              " 'SANB11',\n",
              " 'SBSP3',\n",
              " 'SOMA3',\n",
              " 'SULA11',\n",
              " 'SUZB3',\n",
              " 'TAEE11',\n",
              " 'TIMS3',\n",
              " 'TOTS3',\n",
              " 'UGPA3',\n",
              " 'USIM5',\n",
              " 'VALE3',\n",
              " 'VBBR3',\n",
              " 'VIIA3',\n",
              " 'VIVT3',\n",
              " 'WEGE3',\n",
              " 'YDUQ3']"
            ]
          },
          "metadata": {},
          "execution_count": 33
        }
      ]
    },
    {
      "cell_type": "markdown",
      "source": [
        "**PONTO IMPORTANTE**\n",
        "\n",
        "As ações brasileiras no Yahoo Finance terminam com \".SA\". Isso é válido inclusive para outros papéis, como ETFs, FIIs, BDRs"
      ],
      "metadata": {
        "id": "0U-zBsZbuRab"
      }
    },
    {
      "cell_type": "markdown",
      "source": [
        "Montar estrutura para alterar a lista de ticker com .SA"
      ],
      "metadata": {
        "id": "MAULdVx2uaeb"
      }
    },
    {
      "cell_type": "code",
      "source": [
        "tickers_IBOV_SA = []\n",
        "\n",
        "for i in tickers_IBOV:\n",
        "  tickers_IBOV_SA.append(i+'.SA')"
      ],
      "metadata": {
        "id": "sQJYa9F1uJsm"
      },
      "execution_count": 38,
      "outputs": []
    },
    {
      "cell_type": "code",
      "source": [
        "tickers_IBOV_SA"
      ],
      "metadata": {
        "id": "vf4RvTauvAbr",
        "outputId": "01be260a-b8c5-48eb-aa2e-cf7b30f07886",
        "colab": {
          "base_uri": "https://localhost:8080/"
        }
      },
      "execution_count": 39,
      "outputs": [
        {
          "output_type": "execute_result",
          "data": {
            "text/plain": [
              "['ABEV3.SA',\n",
              " 'ALPA4.SA',\n",
              " 'AMER3.SA',\n",
              " 'ASAI3.SA',\n",
              " 'AZUL4.SA',\n",
              " 'B3SA3.SA',\n",
              " 'BBAS3.SA',\n",
              " 'BBDC3.SA',\n",
              " 'BBDC4.SA',\n",
              " 'BBSE3.SA',\n",
              " 'BEEF3.SA',\n",
              " 'BIDI11.SA',\n",
              " 'BPAC11.SA',\n",
              " 'BPAN4.SA',\n",
              " 'BRAP4.SA',\n",
              " 'BRFS3.SA',\n",
              " 'BRKM5.SA',\n",
              " 'BRML3.SA',\n",
              " 'CASH3.SA',\n",
              " 'CCRO3.SA',\n",
              " 'CIEL3.SA',\n",
              " 'CMIG4.SA',\n",
              " 'CMIN3.SA',\n",
              " 'COGN3.SA',\n",
              " 'CPFE3.SA',\n",
              " 'CPLE6.SA',\n",
              " 'CRFB3.SA',\n",
              " 'CSAN3.SA',\n",
              " 'CSNA3.SA',\n",
              " 'CVCB3.SA',\n",
              " 'CYRE3.SA',\n",
              " 'DXCO3.SA',\n",
              " 'ECOR3.SA',\n",
              " 'EGIE3.SA',\n",
              " 'ELET3.SA',\n",
              " 'ELET6.SA',\n",
              " 'EMBR3.SA',\n",
              " 'ENBR3.SA',\n",
              " 'ENEV3.SA',\n",
              " 'ENGI11.SA',\n",
              " 'EQTL3.SA',\n",
              " 'EZTC3.SA',\n",
              " 'FLRY3.SA',\n",
              " 'GGBR4.SA',\n",
              " 'GNDI3.SA',\n",
              " 'GOAU4.SA',\n",
              " 'GOLL4.SA',\n",
              " 'HAPV3.SA',\n",
              " 'HYPE3.SA',\n",
              " 'IGTI11.SA',\n",
              " 'IRBR3.SA',\n",
              " 'ITSA4.SA',\n",
              " 'ITUB4.SA',\n",
              " 'JBSS3.SA',\n",
              " 'JHSF3.SA',\n",
              " 'KLBN11.SA',\n",
              " 'LCAM3.SA',\n",
              " 'LREN3.SA',\n",
              " 'LWSA3.SA',\n",
              " 'MGLU3.SA',\n",
              " 'MRFG3.SA',\n",
              " 'MRVE3.SA',\n",
              " 'MULT3.SA',\n",
              " 'NTCO3.SA',\n",
              " 'PCAR3.SA',\n",
              " 'PETR3.SA',\n",
              " 'PETR4.SA',\n",
              " 'PETZ3.SA',\n",
              " 'POSI3.SA',\n",
              " 'PRIO3.SA',\n",
              " 'QUAL3.SA',\n",
              " 'RADL3.SA',\n",
              " 'RAIL3.SA',\n",
              " 'RDOR3.SA',\n",
              " 'RENT3.SA',\n",
              " 'RRRP3.SA',\n",
              " 'SANB11.SA',\n",
              " 'SBSP3.SA',\n",
              " 'SOMA3.SA',\n",
              " 'SULA11.SA',\n",
              " 'SUZB3.SA',\n",
              " 'TAEE11.SA',\n",
              " 'TIMS3.SA',\n",
              " 'TOTS3.SA',\n",
              " 'UGPA3.SA',\n",
              " 'USIM5.SA',\n",
              " 'VALE3.SA',\n",
              " 'VBBR3.SA',\n",
              " 'VIIA3.SA',\n",
              " 'VIVT3.SA',\n",
              " 'WEGE3.SA',\n",
              " 'YDUQ3.SA']"
            ]
          },
          "metadata": {},
          "execution_count": 39
        }
      ]
    },
    {
      "cell_type": "markdown",
      "source": [
        "Uma vez que temos uma lista com o nome dos tickers corrigidos para fazer a busca na yfinance (que extrai os dados da Yahoo Finance)"
      ],
      "metadata": {
        "id": "hOAztE4cvkO9"
      }
    },
    {
      "cell_type": "code",
      "source": [
        "yf.download('PETR4.SA',start='2022-02-01',end = '2022-02-18', period=\"1d\")"
      ],
      "metadata": {
        "id": "lNxuiaIZvdZW",
        "outputId": "f7d513de-7898-401c-a2e5-e64b5a418e7f",
        "colab": {
          "base_uri": "https://localhost:8080/",
          "height": 506
        }
      },
      "execution_count": 41,
      "outputs": [
        {
          "output_type": "stream",
          "name": "stdout",
          "text": [
            "\r[*********************100%***********************]  1 of 1 completed\n"
          ]
        },
        {
          "output_type": "execute_result",
          "data": {
            "text/plain": [
              "                 Open       High        Low      Close  Adj Close    Volume\n",
              "Date                                                                       \n",
              "2022-02-01  32.349998  33.320000  31.950001  33.000000  30.164644  57315200\n",
              "2022-02-02  33.410000  33.490002  32.360001  32.520000  29.725887  36271700\n",
              "2022-02-03  32.349998  32.919998  31.620001  32.070000  29.314550  51087800\n",
              "2022-02-04  32.410000  33.230000  31.879999  32.630001  29.826435  59346800\n",
              "2022-02-07  32.549999  32.779999  32.130001  32.150002  29.387678  48868100\n",
              "2022-02-08  31.900000  31.950001  31.260000  31.830000  29.095171  62590000\n",
              "2022-02-09  31.740000  32.689999  31.650000  31.950001  29.204861  50960500\n",
              "2022-02-10  32.299999  32.900002  31.940001  32.439999  29.652758  49534600\n",
              "2022-02-11  32.770000  33.910000  32.630001  33.759998  30.859344  88013400\n",
              "2022-02-14  33.860001  33.939999  32.820000  33.000000  30.164644  55687000\n",
              "2022-02-15  32.660000  32.680000  31.889999  32.480000  29.689323  65689000\n",
              "2022-02-16  32.830002  33.700001  32.770000  32.930000  30.100660  65811600\n",
              "2022-02-17  32.849998  33.290001  32.549999  32.799999  29.981829  43255200"
            ],
            "text/html": [
              "\n",
              "  <div id=\"df-1595b367-5ea6-43c3-ba66-84361a66df23\">\n",
              "    <div class=\"colab-df-container\">\n",
              "      <div>\n",
              "<style scoped>\n",
              "    .dataframe tbody tr th:only-of-type {\n",
              "        vertical-align: middle;\n",
              "    }\n",
              "\n",
              "    .dataframe tbody tr th {\n",
              "        vertical-align: top;\n",
              "    }\n",
              "\n",
              "    .dataframe thead th {\n",
              "        text-align: right;\n",
              "    }\n",
              "</style>\n",
              "<table border=\"1\" class=\"dataframe\">\n",
              "  <thead>\n",
              "    <tr style=\"text-align: right;\">\n",
              "      <th></th>\n",
              "      <th>Open</th>\n",
              "      <th>High</th>\n",
              "      <th>Low</th>\n",
              "      <th>Close</th>\n",
              "      <th>Adj Close</th>\n",
              "      <th>Volume</th>\n",
              "    </tr>\n",
              "    <tr>\n",
              "      <th>Date</th>\n",
              "      <th></th>\n",
              "      <th></th>\n",
              "      <th></th>\n",
              "      <th></th>\n",
              "      <th></th>\n",
              "      <th></th>\n",
              "    </tr>\n",
              "  </thead>\n",
              "  <tbody>\n",
              "    <tr>\n",
              "      <th>2022-02-01</th>\n",
              "      <td>32.349998</td>\n",
              "      <td>33.320000</td>\n",
              "      <td>31.950001</td>\n",
              "      <td>33.000000</td>\n",
              "      <td>30.164644</td>\n",
              "      <td>57315200</td>\n",
              "    </tr>\n",
              "    <tr>\n",
              "      <th>2022-02-02</th>\n",
              "      <td>33.410000</td>\n",
              "      <td>33.490002</td>\n",
              "      <td>32.360001</td>\n",
              "      <td>32.520000</td>\n",
              "      <td>29.725887</td>\n",
              "      <td>36271700</td>\n",
              "    </tr>\n",
              "    <tr>\n",
              "      <th>2022-02-03</th>\n",
              "      <td>32.349998</td>\n",
              "      <td>32.919998</td>\n",
              "      <td>31.620001</td>\n",
              "      <td>32.070000</td>\n",
              "      <td>29.314550</td>\n",
              "      <td>51087800</td>\n",
              "    </tr>\n",
              "    <tr>\n",
              "      <th>2022-02-04</th>\n",
              "      <td>32.410000</td>\n",
              "      <td>33.230000</td>\n",
              "      <td>31.879999</td>\n",
              "      <td>32.630001</td>\n",
              "      <td>29.826435</td>\n",
              "      <td>59346800</td>\n",
              "    </tr>\n",
              "    <tr>\n",
              "      <th>2022-02-07</th>\n",
              "      <td>32.549999</td>\n",
              "      <td>32.779999</td>\n",
              "      <td>32.130001</td>\n",
              "      <td>32.150002</td>\n",
              "      <td>29.387678</td>\n",
              "      <td>48868100</td>\n",
              "    </tr>\n",
              "    <tr>\n",
              "      <th>2022-02-08</th>\n",
              "      <td>31.900000</td>\n",
              "      <td>31.950001</td>\n",
              "      <td>31.260000</td>\n",
              "      <td>31.830000</td>\n",
              "      <td>29.095171</td>\n",
              "      <td>62590000</td>\n",
              "    </tr>\n",
              "    <tr>\n",
              "      <th>2022-02-09</th>\n",
              "      <td>31.740000</td>\n",
              "      <td>32.689999</td>\n",
              "      <td>31.650000</td>\n",
              "      <td>31.950001</td>\n",
              "      <td>29.204861</td>\n",
              "      <td>50960500</td>\n",
              "    </tr>\n",
              "    <tr>\n",
              "      <th>2022-02-10</th>\n",
              "      <td>32.299999</td>\n",
              "      <td>32.900002</td>\n",
              "      <td>31.940001</td>\n",
              "      <td>32.439999</td>\n",
              "      <td>29.652758</td>\n",
              "      <td>49534600</td>\n",
              "    </tr>\n",
              "    <tr>\n",
              "      <th>2022-02-11</th>\n",
              "      <td>32.770000</td>\n",
              "      <td>33.910000</td>\n",
              "      <td>32.630001</td>\n",
              "      <td>33.759998</td>\n",
              "      <td>30.859344</td>\n",
              "      <td>88013400</td>\n",
              "    </tr>\n",
              "    <tr>\n",
              "      <th>2022-02-14</th>\n",
              "      <td>33.860001</td>\n",
              "      <td>33.939999</td>\n",
              "      <td>32.820000</td>\n",
              "      <td>33.000000</td>\n",
              "      <td>30.164644</td>\n",
              "      <td>55687000</td>\n",
              "    </tr>\n",
              "    <tr>\n",
              "      <th>2022-02-15</th>\n",
              "      <td>32.660000</td>\n",
              "      <td>32.680000</td>\n",
              "      <td>31.889999</td>\n",
              "      <td>32.480000</td>\n",
              "      <td>29.689323</td>\n",
              "      <td>65689000</td>\n",
              "    </tr>\n",
              "    <tr>\n",
              "      <th>2022-02-16</th>\n",
              "      <td>32.830002</td>\n",
              "      <td>33.700001</td>\n",
              "      <td>32.770000</td>\n",
              "      <td>32.930000</td>\n",
              "      <td>30.100660</td>\n",
              "      <td>65811600</td>\n",
              "    </tr>\n",
              "    <tr>\n",
              "      <th>2022-02-17</th>\n",
              "      <td>32.849998</td>\n",
              "      <td>33.290001</td>\n",
              "      <td>32.549999</td>\n",
              "      <td>32.799999</td>\n",
              "      <td>29.981829</td>\n",
              "      <td>43255200</td>\n",
              "    </tr>\n",
              "  </tbody>\n",
              "</table>\n",
              "</div>\n",
              "      <button class=\"colab-df-convert\" onclick=\"convertToInteractive('df-1595b367-5ea6-43c3-ba66-84361a66df23')\"\n",
              "              title=\"Convert this dataframe to an interactive table.\"\n",
              "              style=\"display:none;\">\n",
              "        \n",
              "  <svg xmlns=\"http://www.w3.org/2000/svg\" height=\"24px\"viewBox=\"0 0 24 24\"\n",
              "       width=\"24px\">\n",
              "    <path d=\"M0 0h24v24H0V0z\" fill=\"none\"/>\n",
              "    <path d=\"M18.56 5.44l.94 2.06.94-2.06 2.06-.94-2.06-.94-.94-2.06-.94 2.06-2.06.94zm-11 1L8.5 8.5l.94-2.06 2.06-.94-2.06-.94L8.5 2.5l-.94 2.06-2.06.94zm10 10l.94 2.06.94-2.06 2.06-.94-2.06-.94-.94-2.06-.94 2.06-2.06.94z\"/><path d=\"M17.41 7.96l-1.37-1.37c-.4-.4-.92-.59-1.43-.59-.52 0-1.04.2-1.43.59L10.3 9.45l-7.72 7.72c-.78.78-.78 2.05 0 2.83L4 21.41c.39.39.9.59 1.41.59.51 0 1.02-.2 1.41-.59l7.78-7.78 2.81-2.81c.8-.78.8-2.07 0-2.86zM5.41 20L4 18.59l7.72-7.72 1.47 1.35L5.41 20z\"/>\n",
              "  </svg>\n",
              "      </button>\n",
              "      \n",
              "  <style>\n",
              "    .colab-df-container {\n",
              "      display:flex;\n",
              "      flex-wrap:wrap;\n",
              "      gap: 12px;\n",
              "    }\n",
              "\n",
              "    .colab-df-convert {\n",
              "      background-color: #E8F0FE;\n",
              "      border: none;\n",
              "      border-radius: 50%;\n",
              "      cursor: pointer;\n",
              "      display: none;\n",
              "      fill: #1967D2;\n",
              "      height: 32px;\n",
              "      padding: 0 0 0 0;\n",
              "      width: 32px;\n",
              "    }\n",
              "\n",
              "    .colab-df-convert:hover {\n",
              "      background-color: #E2EBFA;\n",
              "      box-shadow: 0px 1px 2px rgba(60, 64, 67, 0.3), 0px 1px 3px 1px rgba(60, 64, 67, 0.15);\n",
              "      fill: #174EA6;\n",
              "    }\n",
              "\n",
              "    [theme=dark] .colab-df-convert {\n",
              "      background-color: #3B4455;\n",
              "      fill: #D2E3FC;\n",
              "    }\n",
              "\n",
              "    [theme=dark] .colab-df-convert:hover {\n",
              "      background-color: #434B5C;\n",
              "      box-shadow: 0px 1px 3px 1px rgba(0, 0, 0, 0.15);\n",
              "      filter: drop-shadow(0px 1px 2px rgba(0, 0, 0, 0.3));\n",
              "      fill: #FFFFFF;\n",
              "    }\n",
              "  </style>\n",
              "\n",
              "      <script>\n",
              "        const buttonEl =\n",
              "          document.querySelector('#df-1595b367-5ea6-43c3-ba66-84361a66df23 button.colab-df-convert');\n",
              "        buttonEl.style.display =\n",
              "          google.colab.kernel.accessAllowed ? 'block' : 'none';\n",
              "\n",
              "        async function convertToInteractive(key) {\n",
              "          const element = document.querySelector('#df-1595b367-5ea6-43c3-ba66-84361a66df23');\n",
              "          const dataTable =\n",
              "            await google.colab.kernel.invokeFunction('convertToInteractive',\n",
              "                                                     [key], {});\n",
              "          if (!dataTable) return;\n",
              "\n",
              "          const docLinkHtml = 'Like what you see? Visit the ' +\n",
              "            '<a target=\"_blank\" href=https://colab.research.google.com/notebooks/data_table.ipynb>data table notebook</a>'\n",
              "            + ' to learn more about interactive tables.';\n",
              "          element.innerHTML = '';\n",
              "          dataTable['output_type'] = 'display_data';\n",
              "          await google.colab.output.renderOutput(dataTable, element);\n",
              "          const docLink = document.createElement('div');\n",
              "          docLink.innerHTML = docLinkHtml;\n",
              "          element.appendChild(docLink);\n",
              "        }\n",
              "      </script>\n",
              "    </div>\n",
              "  </div>\n",
              "  "
            ]
          },
          "metadata": {},
          "execution_count": 41
        }
      ]
    },
    {
      "cell_type": "markdown",
      "source": [
        "Pegando dados da lista de ativos"
      ],
      "metadata": {
        "id": "G39OaaU5wLmU"
      }
    },
    {
      "cell_type": "code",
      "source": [
        "yf.download(tickers_IBOV_SA,start='2022-02-01',end = '2022-02-18', period=\"1d\")"
      ],
      "metadata": {
        "id": "eqzJGLO-wNqD",
        "outputId": "8cf6e7e0-a921-4ac4-db38-0a70fc2d878c",
        "colab": {
          "base_uri": "https://localhost:8080/",
          "height": 336
        }
      },
      "execution_count": 43,
      "outputs": [
        {
          "output_type": "error",
          "ename": "KeyboardInterrupt",
          "evalue": "ignored",
          "traceback": [
            "\u001b[0;31m---------------------------------------------------------------------------\u001b[0m",
            "\u001b[0;31mKeyboardInterrupt\u001b[0m                         Traceback (most recent call last)",
            "\u001b[0;32m<ipython-input-43-e5ad3d77586e>\u001b[0m in \u001b[0;36m<module>\u001b[0;34m()\u001b[0m\n\u001b[0;32m----> 1\u001b[0;31m \u001b[0myf\u001b[0m\u001b[0;34m.\u001b[0m\u001b[0mdownload\u001b[0m\u001b[0;34m(\u001b[0m\u001b[0mtickers_IBOV_SA\u001b[0m\u001b[0;34m,\u001b[0m\u001b[0mstart\u001b[0m\u001b[0;34m=\u001b[0m\u001b[0;34m'2022-02-01'\u001b[0m\u001b[0;34m,\u001b[0m\u001b[0mend\u001b[0m \u001b[0;34m=\u001b[0m \u001b[0;34m'2022-02-18'\u001b[0m\u001b[0;34m,\u001b[0m \u001b[0mperiod\u001b[0m\u001b[0;34m=\u001b[0m\u001b[0;34m\"1d\"\u001b[0m\u001b[0;34m)\u001b[0m\u001b[0;34m\u001b[0m\u001b[0;34m\u001b[0m\u001b[0m\n\u001b[0m",
            "\u001b[0;32m/usr/local/lib/python3.7/dist-packages/yfinance/multi.py\u001b[0m in \u001b[0;36mdownload\u001b[0;34m(tickers, start, end, actions, threads, group_by, auto_adjust, back_adjust, progress, period, show_errors, interval, prepost, proxy, rounding, timeout, **kwargs)\u001b[0m\n\u001b[1;32m    110\u001b[0m                                    rounding=rounding, timeout=timeout)\n\u001b[1;32m    111\u001b[0m         \u001b[0;32mwhile\u001b[0m \u001b[0mlen\u001b[0m\u001b[0;34m(\u001b[0m\u001b[0mshared\u001b[0m\u001b[0;34m.\u001b[0m\u001b[0m_DFS\u001b[0m\u001b[0;34m)\u001b[0m \u001b[0;34m<\u001b[0m \u001b[0mlen\u001b[0m\u001b[0;34m(\u001b[0m\u001b[0mtickers\u001b[0m\u001b[0;34m)\u001b[0m\u001b[0;34m:\u001b[0m\u001b[0;34m\u001b[0m\u001b[0;34m\u001b[0m\u001b[0m\n\u001b[0;32m--> 112\u001b[0;31m             \u001b[0m_time\u001b[0m\u001b[0;34m.\u001b[0m\u001b[0msleep\u001b[0m\u001b[0;34m(\u001b[0m\u001b[0;36m0.01\u001b[0m\u001b[0;34m)\u001b[0m\u001b[0;34m\u001b[0m\u001b[0;34m\u001b[0m\u001b[0m\n\u001b[0m\u001b[1;32m    113\u001b[0m \u001b[0;34m\u001b[0m\u001b[0m\n\u001b[1;32m    114\u001b[0m     \u001b[0;31m# download synchronously\u001b[0m\u001b[0;34m\u001b[0m\u001b[0;34m\u001b[0m\u001b[0;34m\u001b[0m\u001b[0m\n",
            "\u001b[0;31mKeyboardInterrupt\u001b[0m: "
          ]
        }
      ]
    }
  ]
}