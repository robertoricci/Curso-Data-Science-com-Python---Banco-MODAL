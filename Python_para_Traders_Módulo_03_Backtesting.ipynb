{
  "nbformat": 4,
  "nbformat_minor": 0,
  "metadata": {
    "colab": {
      "name": "Python para Traders - Módulo 03 - Backtesting.ipynb",
      "provenance": [],
      "include_colab_link": true
    },
    "kernelspec": {
      "name": "python3",
      "display_name": "Python 3"
    },
    "language_info": {
      "name": "python"
    }
  },
  "cells": [
    {
      "cell_type": "markdown",
      "metadata": {
        "id": "view-in-github",
        "colab_type": "text"
      },
      "source": [
        "<a href=\"https://colab.research.google.com/github/robertoricci/Curso-Data-Science-com-Python---Banco-MODAL/blob/main/Python_para_Traders_M%C3%B3dulo_03_Backtesting.ipynb\" target=\"_parent\"><img src=\"https://colab.research.google.com/assets/colab-badge.svg\" alt=\"Open In Colab\"/></a>"
      ]
    },
    {
      "cell_type": "markdown",
      "source": [
        "##Backtesting em Python\n",
        "\n",
        "Nesta seção iremos realizar o backtesting de algumas estratégias dentro da biblioteca backtrader!"
      ],
      "metadata": {
        "id": "3Leymiyz6nii"
      }
    },
    {
      "cell_type": "markdown",
      "source": [
        "##1. Instalando bibliotecas\n",
        "\n",
        "Iremos instalar as bibliotecas YFinance e Backtrader para realizar as análises"
      ],
      "metadata": {
        "id": "TZRA_45F7NXO"
      }
    },
    {
      "cell_type": "code",
      "execution_count": 1,
      "metadata": {
        "colab": {
          "base_uri": "https://localhost:8080/"
        },
        "id": "LXGbhHpV6ibP",
        "outputId": "805dc6d7-2ec4-4168-90b2-9a23dc352463"
      },
      "outputs": [
        {
          "output_type": "stream",
          "name": "stdout",
          "text": [
            "Looking in indexes: https://pypi.org/simple, https://us-python.pkg.dev/colab-wheels/public/simple/\n",
            "Collecting backtrader\n",
            "  Downloading backtrader-1.9.76.123-py2.py3-none-any.whl (410 kB)\n",
            "\u001b[?25l\r\u001b[K     |▉                               | 10 kB 19.9 MB/s eta 0:00:01\r\u001b[K     |█▋                              | 20 kB 26.8 MB/s eta 0:00:01\r\u001b[K     |██▍                             | 30 kB 13.7 MB/s eta 0:00:01\r\u001b[K     |███▏                            | 40 kB 6.1 MB/s eta 0:00:01\r\u001b[K     |████                            | 51 kB 6.3 MB/s eta 0:00:01\r\u001b[K     |████▉                           | 61 kB 7.4 MB/s eta 0:00:01\r\u001b[K     |█████▋                          | 71 kB 7.9 MB/s eta 0:00:01\r\u001b[K     |██████▍                         | 81 kB 7.0 MB/s eta 0:00:01\r\u001b[K     |███████▏                        | 92 kB 7.8 MB/s eta 0:00:01\r\u001b[K     |████████                        | 102 kB 6.9 MB/s eta 0:00:01\r\u001b[K     |████████▉                       | 112 kB 6.9 MB/s eta 0:00:01\r\u001b[K     |█████████▋                      | 122 kB 6.9 MB/s eta 0:00:01\r\u001b[K     |██████████▍                     | 133 kB 6.9 MB/s eta 0:00:01\r\u001b[K     |███████████▏                    | 143 kB 6.9 MB/s eta 0:00:01\r\u001b[K     |████████████                    | 153 kB 6.9 MB/s eta 0:00:01\r\u001b[K     |████████████▉                   | 163 kB 6.9 MB/s eta 0:00:01\r\u001b[K     |█████████████▋                  | 174 kB 6.9 MB/s eta 0:00:01\r\u001b[K     |██████████████▍                 | 184 kB 6.9 MB/s eta 0:00:01\r\u001b[K     |███████████████▏                | 194 kB 6.9 MB/s eta 0:00:01\r\u001b[K     |████████████████                | 204 kB 6.9 MB/s eta 0:00:01\r\u001b[K     |████████████████▉               | 215 kB 6.9 MB/s eta 0:00:01\r\u001b[K     |█████████████████▋              | 225 kB 6.9 MB/s eta 0:00:01\r\u001b[K     |██████████████████▍             | 235 kB 6.9 MB/s eta 0:00:01\r\u001b[K     |███████████████████▏            | 245 kB 6.9 MB/s eta 0:00:01\r\u001b[K     |████████████████████            | 256 kB 6.9 MB/s eta 0:00:01\r\u001b[K     |████████████████████▊           | 266 kB 6.9 MB/s eta 0:00:01\r\u001b[K     |█████████████████████▋          | 276 kB 6.9 MB/s eta 0:00:01\r\u001b[K     |██████████████████████▍         | 286 kB 6.9 MB/s eta 0:00:01\r\u001b[K     |███████████████████████▏        | 296 kB 6.9 MB/s eta 0:00:01\r\u001b[K     |████████████████████████        | 307 kB 6.9 MB/s eta 0:00:01\r\u001b[K     |████████████████████████▊       | 317 kB 6.9 MB/s eta 0:00:01\r\u001b[K     |█████████████████████████▋      | 327 kB 6.9 MB/s eta 0:00:01\r\u001b[K     |██████████████████████████▍     | 337 kB 6.9 MB/s eta 0:00:01\r\u001b[K     |███████████████████████████▏    | 348 kB 6.9 MB/s eta 0:00:01\r\u001b[K     |████████████████████████████    | 358 kB 6.9 MB/s eta 0:00:01\r\u001b[K     |████████████████████████████▊   | 368 kB 6.9 MB/s eta 0:00:01\r\u001b[K     |█████████████████████████████▋  | 378 kB 6.9 MB/s eta 0:00:01\r\u001b[K     |██████████████████████████████▍ | 389 kB 6.9 MB/s eta 0:00:01\r\u001b[K     |███████████████████████████████▏| 399 kB 6.9 MB/s eta 0:00:01\r\u001b[K     |████████████████████████████████| 409 kB 6.9 MB/s eta 0:00:01\r\u001b[K     |████████████████████████████████| 410 kB 6.9 MB/s \n",
            "\u001b[?25hInstalling collected packages: backtrader\n",
            "Successfully installed backtrader-1.9.76.123\n",
            "Looking in indexes: https://pypi.org/simple, https://us-python.pkg.dev/colab-wheels/public/simple/\n",
            "Collecting yfinance\n",
            "  Downloading yfinance-0.1.70-py2.py3-none-any.whl (26 kB)\n",
            "Collecting lxml>=4.5.1\n",
            "  Downloading lxml-4.9.0-cp37-cp37m-manylinux_2_17_x86_64.manylinux2014_x86_64.manylinux_2_24_x86_64.whl (6.4 MB)\n",
            "\u001b[K     |████████████████████████████████| 6.4 MB 7.9 MB/s \n",
            "\u001b[?25hCollecting requests>=2.26\n",
            "  Downloading requests-2.28.0-py3-none-any.whl (62 kB)\n",
            "\u001b[K     |████████████████████████████████| 62 kB 1.4 MB/s \n",
            "\u001b[?25hRequirement already satisfied: pandas>=0.24.0 in /usr/local/lib/python3.7/dist-packages (from yfinance) (1.3.5)\n",
            "Requirement already satisfied: multitasking>=0.0.7 in /usr/local/lib/python3.7/dist-packages (from yfinance) (0.0.10)\n",
            "Requirement already satisfied: numpy>=1.15 in /usr/local/lib/python3.7/dist-packages (from yfinance) (1.21.6)\n",
            "Requirement already satisfied: python-dateutil>=2.7.3 in /usr/local/lib/python3.7/dist-packages (from pandas>=0.24.0->yfinance) (2.8.2)\n",
            "Requirement already satisfied: pytz>=2017.3 in /usr/local/lib/python3.7/dist-packages (from pandas>=0.24.0->yfinance) (2022.1)\n",
            "Requirement already satisfied: six>=1.5 in /usr/local/lib/python3.7/dist-packages (from python-dateutil>=2.7.3->pandas>=0.24.0->yfinance) (1.15.0)\n",
            "Requirement already satisfied: urllib3<1.27,>=1.21.1 in /usr/local/lib/python3.7/dist-packages (from requests>=2.26->yfinance) (1.24.3)\n",
            "Requirement already satisfied: idna<4,>=2.5 in /usr/local/lib/python3.7/dist-packages (from requests>=2.26->yfinance) (2.10)\n",
            "Requirement already satisfied: charset-normalizer~=2.0.0 in /usr/local/lib/python3.7/dist-packages (from requests>=2.26->yfinance) (2.0.12)\n",
            "Requirement already satisfied: certifi>=2017.4.17 in /usr/local/lib/python3.7/dist-packages (from requests>=2.26->yfinance) (2022.5.18.1)\n",
            "Installing collected packages: requests, lxml, yfinance\n",
            "  Attempting uninstall: requests\n",
            "    Found existing installation: requests 2.23.0\n",
            "    Uninstalling requests-2.23.0:\n",
            "      Successfully uninstalled requests-2.23.0\n",
            "  Attempting uninstall: lxml\n",
            "    Found existing installation: lxml 4.2.6\n",
            "    Uninstalling lxml-4.2.6:\n",
            "      Successfully uninstalled lxml-4.2.6\n",
            "\u001b[31mERROR: pip's dependency resolver does not currently take into account all the packages that are installed. This behaviour is the source of the following dependency conflicts.\n",
            "google-colab 1.0.0 requires requests~=2.23.0, but you have requests 2.28.0 which is incompatible.\n",
            "datascience 0.10.6 requires folium==0.2.1, but you have folium 0.8.3 which is incompatible.\u001b[0m\n",
            "Successfully installed lxml-4.9.0 requests-2.28.0 yfinance-0.1.70\n"
          ]
        }
      ],
      "source": [
        "!pip install backtrader\n",
        "!pip install yfinance"
      ]
    },
    {
      "cell_type": "markdown",
      "source": [
        "##2. Importando bibliotecas\n",
        "\n",
        "Utilizaremos:\n",
        "- a biblioteca pandas e numpy para transformação dos dados;\n",
        "- backtrader para realizar os backtests e métricas;\n",
        "- datetime para tratar informações de tempo;-\n",
        " yfiannce para captura dos dados do mercado financeiro e \n",
        "- matplotlib para visualização dos dados\n"
      ],
      "metadata": {
        "id": "N6bY0hEE7bnt"
      }
    },
    {
      "cell_type": "code",
      "source": [
        "import pandas as pd\n",
        "import backtrader as bt\n",
        "import datetime\n",
        "import yfinance as yf\n",
        "import matplotlib.pyplot as plt\n",
        "import numpy as np"
      ],
      "metadata": {
        "id": "Ot0ej-Ml7d5g"
      },
      "execution_count": 2,
      "outputs": []
    },
    {
      "cell_type": "markdown",
      "source": [
        "##3. Revisando o conceito de classes\n",
        "\n",
        "Compreender o conceito de classes é fundamental para trabalharmos com a biblioteca Backtrader uma vez que ela opera através dessa estrutura.\n",
        "\n",
        "\n",
        "__init__ -> permite criar a funcionalidade inicial da classe\n",
        "\n",
        "self -> definir as propriedades e métodos de uma instância"
      ],
      "metadata": {
        "id": "co4axXhF7phw"
      }
    },
    {
      "cell_type": "code",
      "source": [
        "class Ativo:\n",
        "    def __init__(self,ticker,setor,ohlc):\n",
        "        self.ticker = str(ticker)\n",
        "        self.setor = str(setor)\n",
        "        self.ohlc = list(ohlc)\n",
        "    pass"
      ],
      "metadata": {
        "id": "6noaeina7gc_"
      },
      "execution_count": 3,
      "outputs": []
    },
    {
      "cell_type": "code",
      "source": [
        "ativo1 = Ativo('PETR4','Combustíveis',[32.35,33.17,31.55,31.93])\n",
        "ativo1"
      ],
      "metadata": {
        "colab": {
          "base_uri": "https://localhost:8080/"
        },
        "id": "S4p12KW27z8l",
        "outputId": "6d5a4927-9993-4649-a283-09a4f8c65a3f"
      },
      "execution_count": 17,
      "outputs": [
        {
          "output_type": "execute_result",
          "data": {
            "text/plain": [
              "<__main__.Ativo at 0x7fc284e60510>"
            ]
          },
          "metadata": {},
          "execution_count": 17
        }
      ]
    },
    {
      "cell_type": "code",
      "source": [
        "ativo1.ticker"
      ],
      "metadata": {
        "colab": {
          "base_uri": "https://localhost:8080/",
          "height": 35
        },
        "id": "evP1Xauw72XE",
        "outputId": "ef7f64ef-fddd-4776-ad3f-b7e522faa9eb"
      },
      "execution_count": 5,
      "outputs": [
        {
          "output_type": "execute_result",
          "data": {
            "text/plain": [
              "'PETR4'"
            ],
            "application/vnd.google.colaboratory.intrinsic+json": {
              "type": "string"
            }
          },
          "metadata": {},
          "execution_count": 5
        }
      ]
    },
    {
      "cell_type": "code",
      "source": [
        "ativo1.ohlc[3]"
      ],
      "metadata": {
        "colab": {
          "base_uri": "https://localhost:8080/"
        },
        "id": "-HK1tAvr74Yc",
        "outputId": "2b983b4b-6ae6-416d-e76c-1e813ce41666"
      },
      "execution_count": 6,
      "outputs": [
        {
          "output_type": "execute_result",
          "data": {
            "text/plain": [
              "31.93"
            ]
          },
          "metadata": {},
          "execution_count": 6
        }
      ]
    },
    {
      "cell_type": "code",
      "source": [
        "ativo1.setor"
      ],
      "metadata": {
        "colab": {
          "base_uri": "https://localhost:8080/",
          "height": 35
        },
        "id": "izEkPooQpsb8",
        "outputId": "e74cdc3d-a0bf-4428-e3a0-ffcd269d196b"
      },
      "execution_count": 23,
      "outputs": [
        {
          "output_type": "execute_result",
          "data": {
            "text/plain": [
              "'Combustíveis'"
            ],
            "application/vnd.google.colaboratory.intrinsic+json": {
              "type": "string"
            }
          },
          "metadata": {},
          "execution_count": 23
        }
      ]
    },
    {
      "cell_type": "code",
      "source": [
        "ativo2 = Ativo('ITUB4','Financeiro',[25.32,27.01,25.18,26.77])\n",
        "ativo3 = Ativo('VALE3','Mineração',[80.87,82.55,80.76,82.40])\n",
        "ativo2.setor == ativo3.setor"
      ],
      "metadata": {
        "colab": {
          "base_uri": "https://localhost:8080/"
        },
        "id": "4X_3eC6a76al",
        "outputId": "8d9d4234-6966-4ac0-9813-16ed5d38e8a1"
      },
      "execution_count": 24,
      "outputs": [
        {
          "output_type": "execute_result",
          "data": {
            "text/plain": [
              "False"
            ]
          },
          "metadata": {},
          "execution_count": 24
        }
      ]
    },
    {
      "cell_type": "code",
      "source": [
        "class Ativo:\n",
        "    def __init__(self,ticker,setor,ohlc):\n",
        "        self.ticker = str(ticker)\n",
        "        self.setor = str(setor)\n",
        "        self.ohlc = list(ohlc)\n",
        "    \n",
        "    def Amplitude(self):\n",
        "        print(round((self.ohlc[1]-self.ohlc[2]),2))\n",
        "    \n",
        "    def Tipo(self):\n",
        "        if self.ticker[-1] == '3':\n",
        "            print(self.ticker,'é uma ação é do tipo ORDINÁRIA')\n",
        "        elif self.ticker[-1] == '4':\n",
        "            print(self.ticker,'é uma ação é do tipo PREFERENCIAL')\n",
        "        elif self.ticker[-1] == '1':\n",
        "            print(self.ticker,'é uma ação é do tipo UNIT')\n",
        "        else:\n",
        "            print('Não tenho certeza, melhor consultar o site da B3')\n",
        "    \n",
        "    def Resultado(self):\n",
        "        resultado = (self.ohlc[3]-self.ohlc[0])\n",
        "        if resultado == 0:\n",
        "          print(self.ticker,'fechou estável')\n",
        "        elif resultado > 0:\n",
        "          print(self.ticker,'fechou em alta')\n",
        "        elif resultado < 0:\n",
        "          print(self.ticker,'fechou em baixa')\n",
        "\n",
        "    def Fech_prox_max_min(self):\n",
        "        media_max_min = np.mean([self.ohlc[1],self.ohlc[2]])\n",
        "        if self.ohlc[3] > media_max_min:\n",
        "            print(self.ticker,'parece estar em tendencia de alta')\n",
        "        else:\n",
        "            print(self.ticker,'parece estar em tendencia de baixa')\n",
        "\n",
        "    pass"
      ],
      "metadata": {
        "id": "nViA2qgB79YM"
      },
      "execution_count": 8,
      "outputs": []
    },
    {
      "cell_type": "code",
      "source": [
        "ativo1 = Ativo('PETR4','Combustíveis',[32.35,33.17,31.55,31.93])\n",
        "ativo2 = Ativo('ITUB4','Financeiro',[25.32,27.01,25.18,26.77])\n",
        "ativo3 = Ativo('VALE3','Mineração',[80.87,82.55,80.76,82.40])\n",
        "ativo4 = Ativo('BPAC11','Financeiro',[24.17,24.77,23.70,23.89])"
      ],
      "metadata": {
        "id": "s6-dqx1V8BqM"
      },
      "execution_count": 25,
      "outputs": []
    },
    {
      "cell_type": "code",
      "source": [
        "ativo1.Amplitude()"
      ],
      "metadata": {
        "colab": {
          "base_uri": "https://localhost:8080/"
        },
        "id": "f5jfyXos8Dic",
        "outputId": "6a5e259e-b794-4596-e4e9-dcb250f06ac0"
      },
      "execution_count": 26,
      "outputs": [
        {
          "output_type": "stream",
          "name": "stdout",
          "text": [
            "1.62\n"
          ]
        }
      ]
    },
    {
      "cell_type": "code",
      "source": [
        "Ativo.Amplitude(ativo3)"
      ],
      "metadata": {
        "colab": {
          "base_uri": "https://localhost:8080/"
        },
        "id": "yg_Tgr6r8FJ0",
        "outputId": "eff4877e-e71d-46a6-ac96-91c4dc3a0a13"
      },
      "execution_count": 11,
      "outputs": [
        {
          "output_type": "stream",
          "name": "stdout",
          "text": [
            "1.79\n"
          ]
        }
      ]
    },
    {
      "cell_type": "code",
      "source": [
        "ativo4.Tipo()"
      ],
      "metadata": {
        "colab": {
          "base_uri": "https://localhost:8080/"
        },
        "id": "IMM7M6Q-8G8L",
        "outputId": "e1208587-bb25-4e8a-8b96-2708944e2891"
      },
      "execution_count": 12,
      "outputs": [
        {
          "output_type": "stream",
          "name": "stdout",
          "text": [
            "BPAC11 é uma ação é do tipo UNIT\n"
          ]
        }
      ]
    },
    {
      "cell_type": "code",
      "source": [
        "ativo2.setor == ativo4.setor"
      ],
      "metadata": {
        "colab": {
          "base_uri": "https://localhost:8080/"
        },
        "id": "MvSpLdIU8Ies",
        "outputId": "c70658f8-0f80-406b-90af-465c8063961a"
      },
      "execution_count": 13,
      "outputs": [
        {
          "output_type": "execute_result",
          "data": {
            "text/plain": [
              "True"
            ]
          },
          "metadata": {},
          "execution_count": 13
        }
      ]
    },
    {
      "cell_type": "code",
      "source": [
        "ativo2.Resultado()"
      ],
      "metadata": {
        "colab": {
          "base_uri": "https://localhost:8080/"
        },
        "id": "r_n3nco08KyU",
        "outputId": "c39ee42e-491f-4d15-80f7-ed211249d589"
      },
      "execution_count": 14,
      "outputs": [
        {
          "output_type": "stream",
          "name": "stdout",
          "text": [
            "ITUB4 fechou em alta\n"
          ]
        }
      ]
    },
    {
      "cell_type": "code",
      "source": [
        "Ativo.Fech_prox_max_min(ativo3)"
      ],
      "metadata": {
        "colab": {
          "base_uri": "https://localhost:8080/"
        },
        "id": "vBbAdRwk8QpL",
        "outputId": "560df61c-5535-4879-f71d-9daa98900394"
      },
      "execution_count": 15,
      "outputs": [
        {
          "output_type": "stream",
          "name": "stdout",
          "text": [
            "VALE3 parece estar em tendencia de alta\n"
          ]
        }
      ]
    },
    {
      "cell_type": "code",
      "source": [
        "ativo5 = Ativo('WEGE3','Bens_Industriais',[32.46,33.84,31.18,32.12])\n",
        "Ativo.Resultado(ativo5)"
      ],
      "metadata": {
        "colab": {
          "base_uri": "https://localhost:8080/"
        },
        "id": "5eEvuTNk8Sp7",
        "outputId": "2b16bdd9-85ca-45d0-b138-ca85ff5ee7e6"
      },
      "execution_count": 16,
      "outputs": [
        {
          "output_type": "stream",
          "name": "stdout",
          "text": [
            "WEGE3 fechou em baixa\n"
          ]
        }
      ]
    },
    {
      "cell_type": "markdown",
      "source": [
        "##4. Capturando dados do YFinance\n",
        "\n",
        "Aqui iremos buscar os dados de cotações dentro do YFinance para utilizarmos na biblioteca backtrader"
      ],
      "metadata": {
        "id": "3nol3fiz8gUY"
      }
    },
    {
      "cell_type": "code",
      "source": [
        "data = bt.feeds.PandasData(dataname=yf.download('PETR4.SA', '2017-01-01', '2021-07-01', auto_adjust=True))"
      ],
      "metadata": {
        "colab": {
          "base_uri": "https://localhost:8080/"
        },
        "id": "sSIhML0x8qNV",
        "outputId": "ca58f262-bd66-4d7b-a7cd-61213a6b5671"
      },
      "execution_count": null,
      "outputs": [
        {
          "output_type": "stream",
          "name": "stdout",
          "text": [
            "\r[*********************100%***********************]  1 of 1 completed\n"
          ]
        }
      ]
    },
    {
      "cell_type": "markdown",
      "source": [
        "##5. Estruturas de estratégias dentro do Backtrader"
      ],
      "metadata": {
        "id": "zQ6vrgyj83oX"
      }
    },
    {
      "cell_type": "markdown",
      "source": [
        "###5.1. Fundamentos"
      ],
      "metadata": {
        "id": "Xr5hK0n2_F0g"
      }
    },
    {
      "cell_type": "code",
      "source": [
        "#Primeiramente iremos utilizar uma estrutura sugerida pela biblioteca para que você entenda como se aplica o conceito de classe dentro da estratégia e como funciona o framework do Backtrader\n",
        "\n",
        "#Trazer a estratégia \n",
        "class PrintFechamento(bt.Strategy):\n",
        "\n",
        "  def __init__(self):\n",
        "    #criei uma variavel dataclose e deixa como referencia a linha final [0] da serie de dados\n",
        "    self.dataclose = self.datas[0].close\n",
        "    #criando uma função de logging para capturar a data do ultimo datapoint da minha base de dados\n",
        "  def log(self, txt, dt=None):\n",
        "    dt = dt or self.datas[0].datetime.date(0)\n",
        "    print(f'{dt.isoformat()} {txt}') #Print data and close\n",
        "    #defino o next - ele será executado toda vez que o bt chamar uma linha do db\n",
        "  def next(self):\n",
        "    self.log('Close, %.2f' % self.dataclose[0])\n"
      ],
      "metadata": {
        "id": "ZLRmcJoW8wK1"
      },
      "execution_count": null,
      "outputs": []
    },
    {
      "cell_type": "code",
      "source": [
        "#inicializando cerebro\n",
        "cerebro = bt.Cerebro()\n",
        "\n",
        "#adicionando dados para backtesting\n",
        "cerebro.adddata(data)\n",
        "\n",
        "#adicionando a estrategia ao cerebro\n",
        "cerebro.addstrategy(PrintFechamento)\n",
        "\n",
        "#executando\n",
        "cerebro.run()"
      ],
      "metadata": {
        "colab": {
          "base_uri": "https://localhost:8080/"
        },
        "id": "fuC-ZJrE-rgY",
        "outputId": "6f5e1954-72d2-428a-cd5f-2c2450d8dd4d"
      },
      "execution_count": null,
      "outputs": [
        {
          "output_type": "stream",
          "name": "stdout",
          "text": [
            "2017-01-02 Close, 11.05\n",
            "2017-01-03 Close, 11.69\n",
            "2017-01-04 Close, 11.69\n",
            "2017-01-05 Close, 11.88\n",
            "2017-01-06 Close, 11.81\n",
            "2017-01-09 Close, 11.56\n",
            "2017-01-10 Close, 11.67\n",
            "2017-01-11 Close, 11.81\n",
            "2017-01-12 Close, 11.99\n",
            "2017-01-13 Close, 11.82\n",
            "2017-01-16 Close, 11.88\n",
            "2017-01-17 Close, 11.93\n",
            "2017-01-18 Close, 11.91\n",
            "2017-01-19 Close, 11.89\n",
            "2017-01-20 Close, 12.06\n",
            "2017-01-23 Close, 12.06\n",
            "2017-01-24 Close, 12.09\n",
            "2017-01-26 Close, 11.91\n",
            "2017-01-27 Close, 11.78\n",
            "2017-01-30 Close, 11.19\n",
            "2017-01-31 Close, 11.33\n",
            "2017-02-01 Close, 11.33\n",
            "2017-02-02 Close, 11.23\n",
            "2017-02-03 Close, 11.57\n",
            "2017-02-06 Close, 11.28\n",
            "2017-02-07 Close, 11.08\n",
            "2017-02-08 Close, 11.39\n",
            "2017-02-09 Close, 11.35\n",
            "2017-02-10 Close, 11.75\n",
            "2017-02-13 Close, 11.78\n",
            "2017-02-14 Close, 11.93\n",
            "2017-02-15 Close, 11.94\n",
            "2017-02-16 Close, 11.96\n",
            "2017-02-17 Close, 11.77\n",
            "2017-02-20 Close, 12.00\n",
            "2017-02-21 Close, 12.13\n",
            "2017-02-22 Close, 11.84\n",
            "2017-02-23 Close, 11.73\n",
            "2017-02-24 Close, 11.45\n",
            "2017-03-01 Close, 11.70\n",
            "2017-03-02 Close, 11.39\n",
            "2017-03-03 Close, 11.55\n",
            "2017-03-06 Close, 11.39\n",
            "2017-03-07 Close, 11.45\n",
            "2017-03-08 Close, 10.97\n",
            "2017-03-09 Close, 10.93\n",
            "2017-03-10 Close, 10.79\n",
            "2017-03-13 Close, 10.84\n",
            "2017-03-14 Close, 10.25\n",
            "2017-03-15 Close, 10.71\n",
            "2017-03-16 Close, 10.34\n",
            "2017-03-17 Close, 9.92\n",
            "2017-03-20 Close, 10.25\n",
            "2017-03-21 Close, 9.80\n",
            "2017-03-22 Close, 10.30\n",
            "2017-03-23 Close, 10.23\n",
            "2017-03-24 Close, 10.16\n",
            "2017-03-27 Close, 10.38\n",
            "2017-03-28 Close, 10.52\n",
            "2017-03-29 Close, 10.90\n",
            "2017-03-30 Close, 10.90\n",
            "2017-03-31 Close, 10.93\n",
            "2017-04-03 Close, 11.06\n",
            "2017-04-04 Close, 11.20\n",
            "2017-04-05 Close, 10.99\n",
            "2017-04-06 Close, 10.96\n",
            "2017-04-07 Close, 11.08\n",
            "2017-04-10 Close, 11.27\n",
            "2017-04-11 Close, 11.07\n",
            "2017-04-12 Close, 11.05\n",
            "2017-04-13 Close, 10.62\n",
            "2017-04-17 Close, 10.77\n",
            "2017-04-18 Close, 10.63\n",
            "2017-04-19 Close, 10.25\n",
            "2017-04-20 Close, 10.47\n",
            "2017-04-24 Close, 10.58\n",
            "2017-04-25 Close, 10.81\n",
            "2017-04-26 Close, 10.56\n",
            "2017-04-27 Close, 10.35\n",
            "2017-04-28 Close, 10.53\n",
            "2017-05-02 Close, 10.55\n",
            "2017-05-03 Close, 10.68\n",
            "2017-05-04 Close, 10.25\n",
            "2017-05-05 Close, 10.71\n",
            "2017-05-08 Close, 10.62\n",
            "2017-05-09 Close, 10.66\n",
            "2017-05-10 Close, 11.11\n",
            "2017-05-11 Close, 11.17\n",
            "2017-05-12 Close, 11.65\n",
            "2017-05-15 Close, 11.82\n",
            "2017-05-16 Close, 11.84\n",
            "2017-05-17 Close, 11.77\n",
            "2017-05-18 Close, 9.92\n",
            "2017-05-19 Close, 10.27\n",
            "2017-05-22 Close, 10.10\n",
            "2017-05-23 Close, 10.17\n",
            "2017-05-24 Close, 10.59\n",
            "2017-05-25 Close, 10.36\n",
            "2017-05-26 Close, 10.32\n",
            "2017-05-29 Close, 10.32\n",
            "2017-05-30 Close, 10.07\n",
            "2017-05-31 Close, 9.77\n",
            "2017-06-01 Close, 9.67\n",
            "2017-06-02 Close, 9.84\n",
            "2017-06-05 Close, 9.94\n",
            "2017-06-06 Close, 9.94\n",
            "2017-06-07 Close, 9.70\n",
            "2017-06-08 Close, 9.68\n",
            "2017-06-09 Close, 9.69\n",
            "2017-06-12 Close, 9.73\n",
            "2017-06-13 Close, 9.76\n",
            "2017-06-14 Close, 9.52\n",
            "2017-06-15 Close, 9.52\n",
            "2017-06-16 Close, 9.26\n",
            "2017-06-19 Close, 9.27\n",
            "2017-06-20 Close, 8.94\n",
            "2017-06-21 Close, 8.78\n",
            "2017-06-22 Close, 9.08\n",
            "2017-06-23 Close, 9.00\n",
            "2017-06-26 Close, 9.25\n",
            "2017-06-27 Close, 9.21\n",
            "2017-06-28 Close, 9.11\n",
            "2017-06-29 Close, 9.18\n",
            "2017-06-30 Close, 9.33\n",
            "2017-07-03 Close, 9.32\n",
            "2017-07-04 Close, 9.37\n",
            "2017-07-05 Close, 9.21\n",
            "2017-07-06 Close, 9.18\n",
            "2017-07-07 Close, 9.00\n",
            "2017-07-10 Close, 9.03\n",
            "2017-07-11 Close, 9.30\n",
            "2017-07-12 Close, 9.76\n",
            "2017-07-13 Close, 9.70\n",
            "2017-07-14 Close, 9.84\n",
            "2017-07-17 Close, 9.72\n",
            "2017-07-18 Close, 9.76\n",
            "2017-07-19 Close, 9.98\n",
            "2017-07-20 Close, 9.88\n",
            "2017-07-21 Close, 9.57\n",
            "2017-07-24 Close, 9.71\n",
            "2017-07-25 Close, 9.97\n",
            "2017-07-26 Close, 9.85\n",
            "2017-07-27 Close, 9.80\n",
            "2017-07-28 Close, 9.90\n",
            "2017-07-31 Close, 10.02\n",
            "2017-08-01 Close, 9.89\n",
            "2017-08-02 Close, 10.19\n",
            "2017-08-03 Close, 10.04\n",
            "2017-08-04 Close, 10.10\n",
            "2017-08-07 Close, 10.22\n",
            "2017-08-08 Close, 10.17\n",
            "2017-08-09 Close, 10.19\n",
            "2017-08-10 Close, 9.95\n",
            "2017-08-11 Close, 9.76\n",
            "2017-08-14 Close, 9.86\n",
            "2017-08-15 Close, 9.92\n",
            "2017-08-16 Close, 9.90\n",
            "2017-08-17 Close, 9.84\n",
            "2017-08-18 Close, 10.25\n",
            "2017-08-21 Close, 10.06\n",
            "2017-08-22 Close, 10.40\n",
            "2017-08-23 Close, 10.38\n",
            "2017-08-24 Close, 10.41\n",
            "2017-08-25 Close, 10.47\n",
            "2017-08-28 Close, 10.46\n",
            "2017-08-29 Close, 10.44\n",
            "2017-08-30 Close, 10.14\n",
            "2017-08-31 Close, 10.29\n",
            "2017-09-01 Close, 10.57\n",
            "2017-09-04 Close, 10.68\n",
            "2017-09-05 Close, 10.87\n",
            "2017-09-06 Close, 11.33\n",
            "2017-09-07 Close, 11.33\n",
            "2017-09-08 Close, 11.09\n",
            "2017-09-11 Close, 11.30\n",
            "2017-09-12 Close, 11.21\n",
            "2017-09-13 Close, 11.33\n",
            "2017-09-14 Close, 11.34\n",
            "2017-09-15 Close, 11.34\n",
            "2017-09-18 Close, 11.34\n",
            "2017-09-19 Close, 11.42\n",
            "2017-09-20 Close, 11.97\n",
            "2017-09-21 Close, 11.82\n",
            "2017-09-22 Close, 11.83\n",
            "2017-09-25 Close, 11.94\n",
            "2017-09-26 Close, 11.73\n",
            "2017-09-27 Close, 11.54\n",
            "2017-09-28 Close, 11.57\n",
            "2017-09-29 Close, 11.54\n",
            "2017-10-02 Close, 11.61\n",
            "2017-10-03 Close, 12.05\n",
            "2017-10-04 Close, 11.81\n",
            "2017-10-05 Close, 11.99\n",
            "2017-10-06 Close, 11.83\n",
            "2017-10-09 Close, 11.98\n",
            "2017-10-10 Close, 12.21\n",
            "2017-10-11 Close, 12.12\n",
            "2017-10-12 Close, 12.12\n",
            "2017-10-13 Close, 12.12\n",
            "2017-10-16 Close, 12.15\n",
            "2017-10-17 Close, 12.16\n",
            "2017-10-18 Close, 12.19\n",
            "2017-10-19 Close, 12.18\n",
            "2017-10-20 Close, 12.23\n",
            "2017-10-23 Close, 12.22\n",
            "2017-10-24 Close, 12.45\n",
            "2017-10-25 Close, 12.61\n",
            "2017-10-26 Close, 12.61\n",
            "2017-10-27 Close, 12.84\n",
            "2017-10-30 Close, 12.65\n",
            "2017-10-31 Close, 12.65\n",
            "2017-11-01 Close, 12.74\n",
            "2017-11-02 Close, 12.74\n",
            "2017-11-03 Close, 12.77\n",
            "2017-11-06 Close, 13.14\n",
            "2017-11-07 Close, 12.44\n",
            "2017-11-08 Close, 12.78\n",
            "2017-11-09 Close, 12.61\n",
            "2017-11-10 Close, 12.61\n",
            "2017-11-13 Close, 12.55\n",
            "2017-11-14 Close, 11.57\n",
            "2017-11-15 Close, 11.57\n",
            "2017-11-16 Close, 11.92\n",
            "2017-11-17 Close, 12.08\n",
            "2017-11-20 Close, 12.08\n",
            "2017-11-21 Close, 11.99\n",
            "2017-11-22 Close, 12.15\n",
            "2017-11-23 Close, 12.21\n",
            "2017-11-24 Close, 12.14\n",
            "2017-11-27 Close, 11.97\n",
            "2017-11-28 Close, 11.94\n",
            "2017-11-29 Close, 11.56\n",
            "2017-11-30 Close, 11.60\n",
            "2017-12-01 Close, 11.77\n",
            "2017-12-04 Close, 11.67\n",
            "2017-12-05 Close, 11.54\n",
            "2017-12-06 Close, 11.70\n",
            "2017-12-07 Close, 11.51\n",
            "2017-12-08 Close, 11.57\n",
            "2017-12-11 Close, 11.60\n",
            "2017-12-12 Close, 11.68\n",
            "2017-12-13 Close, 11.45\n",
            "2017-12-14 Close, 11.32\n",
            "2017-12-15 Close, 11.27\n",
            "2017-12-18 Close, 11.48\n",
            "2017-12-19 Close, 11.42\n",
            "2017-12-20 Close, 11.49\n",
            "2017-12-21 Close, 11.96\n",
            "2017-12-22 Close, 11.88\n",
            "2017-12-25 Close, 11.88\n",
            "2017-12-26 Close, 12.04\n",
            "2017-12-27 Close, 12.10\n",
            "2017-12-28 Close, 12.14\n",
            "2017-12-29 Close, 12.14\n",
            "2018-01-02 Close, 12.48\n",
            "2018-01-03 Close, 12.59\n",
            "2018-01-04 Close, 12.61\n",
            "2018-01-05 Close, 12.69\n",
            "2018-01-08 Close, 12.84\n",
            "2018-01-09 Close, 12.84\n",
            "2018-01-10 Close, 12.67\n",
            "2018-01-11 Close, 13.01\n",
            "2018-01-12 Close, 13.04\n",
            "2018-01-15 Close, 13.08\n",
            "2018-01-16 Close, 13.31\n",
            "2018-01-17 Close, 13.84\n",
            "2018-01-18 Close, 13.74\n",
            "2018-01-19 Close, 13.77\n",
            "2018-01-22 Close, 13.93\n",
            "2018-01-23 Close, 13.75\n",
            "2018-01-24 Close, 14.58\n",
            "2018-01-25 Close, 14.58\n",
            "2018-01-26 Close, 15.03\n",
            "2018-01-29 Close, 14.97\n",
            "2018-01-30 Close, 14.70\n",
            "2018-01-31 Close, 14.85\n",
            "2018-02-01 Close, 15.47\n",
            "2018-02-02 Close, 15.06\n",
            "2018-02-05 Close, 14.36\n",
            "2018-02-06 Close, 15.07\n",
            "2018-02-07 Close, 14.66\n",
            "2018-02-08 Close, 14.36\n",
            "2018-02-09 Close, 14.15\n",
            "2018-02-14 Close, 14.52\n",
            "2018-02-15 Close, 14.63\n",
            "2018-02-16 Close, 14.64\n",
            "2018-02-19 Close, 15.12\n",
            "2018-02-20 Close, 15.41\n",
            "2018-02-21 Close, 15.27\n",
            "2018-02-22 Close, 15.64\n",
            "2018-02-23 Close, 15.93\n",
            "2018-02-26 Close, 16.23\n",
            "2018-02-27 Close, 16.21\n",
            "2018-02-28 Close, 16.18\n",
            "2018-03-01 Close, 15.86\n",
            "2018-03-02 Close, 16.22\n",
            "2018-03-05 Close, 16.68\n",
            "2018-03-06 Close, 16.51\n",
            "2018-03-07 Close, 16.34\n",
            "2018-03-08 Close, 16.36\n",
            "2018-03-09 Close, 16.88\n",
            "2018-03-12 Close, 16.84\n",
            "2018-03-13 Close, 16.67\n",
            "2018-03-14 Close, 16.88\n",
            "2018-03-15 Close, 16.07\n",
            "2018-03-16 Close, 16.16\n",
            "2018-03-19 Close, 15.78\n",
            "2018-03-20 Close, 15.96\n",
            "2018-03-21 Close, 16.63\n",
            "2018-03-22 Close, 16.38\n",
            "2018-03-23 Close, 16.40\n",
            "2018-03-26 Close, 16.61\n",
            "2018-03-27 Close, 16.17\n",
            "2018-03-28 Close, 15.99\n",
            "2018-03-29 Close, 16.14\n",
            "2018-04-02 Close, 15.76\n",
            "2018-04-03 Close, 15.62\n",
            "2018-04-04 Close, 15.37\n",
            "2018-04-05 Close, 15.95\n",
            "2018-04-06 Close, 16.05\n",
            "2018-04-09 Close, 15.48\n",
            "2018-04-10 Close, 16.14\n",
            "2018-04-11 Close, 16.44\n",
            "2018-04-12 Close, 16.35\n",
            "2018-04-13 Close, 15.99\n",
            "2018-04-16 Close, 15.55\n",
            "2018-04-17 Close, 15.86\n",
            "2018-04-18 Close, 16.44\n",
            "2018-04-19 Close, 16.74\n",
            "2018-04-20 Close, 16.86\n",
            "2018-04-23 Close, 16.95\n",
            "2018-04-24 Close, 16.89\n",
            "2018-04-25 Close, 16.39\n",
            "2018-04-26 Close, 17.06\n",
            "2018-04-27 Close, 17.12\n",
            "2018-04-30 Close, 17.32\n",
            "2018-05-02 Close, 17.04\n",
            "2018-05-03 Close, 16.93\n",
            "2018-05-04 Close, 16.79\n",
            "2018-05-07 Close, 17.08\n",
            "2018-05-08 Close, 17.27\n",
            "2018-05-09 Close, 18.68\n",
            "2018-05-10 Close, 19.42\n",
            "2018-05-11 Close, 19.18\n",
            "2018-05-14 Close, 19.79\n",
            "2018-05-15 Close, 20.20\n",
            "2018-05-16 Close, 20.65\n",
            "2018-05-17 Close, 19.57\n",
            "2018-05-18 Close, 19.34\n",
            "2018-05-21 Close, 18.89\n",
            "2018-05-22 Close, 18.67\n",
            "2018-05-23 Close, 17.58\n",
            "2018-05-24 Close, 15.17\n",
            "2018-05-25 Close, 14.96\n",
            "2018-05-28 Close, 12.78\n",
            "2018-05-29 Close, 14.58\n",
            "2018-05-30 Close, 14.34\n",
            "2018-06-01 Close, 12.21\n",
            "2018-06-04 Close, 13.24\n",
            "2018-06-05 Close, 12.53\n",
            "2018-06-06 Close, 12.34\n",
            "2018-06-07 Close, 11.91\n",
            "2018-06-08 Close, 11.52\n",
            "2018-06-11 Close, 11.64\n",
            "2018-06-12 Close, 11.68\n",
            "2018-06-13 Close, 11.46\n",
            "2018-06-14 Close, 11.41\n",
            "2018-06-15 Close, 11.31\n",
            "2018-06-18 Close, 10.96\n",
            "2018-06-19 Close, 11.65\n",
            "2018-06-20 Close, 12.25\n",
            "2018-06-21 Close, 11.41\n",
            "2018-06-22 Close, 11.42\n",
            "2018-06-25 Close, 11.86\n",
            "2018-06-26 Close, 12.12\n",
            "2018-06-27 Close, 12.50\n",
            "2018-06-28 Close, 12.54\n",
            "2018-06-29 Close, 12.99\n",
            "2018-07-02 Close, 13.20\n",
            "2018-07-03 Close, 13.22\n",
            "2018-07-04 Close, 13.31\n",
            "2018-07-05 Close, 13.49\n",
            "2018-07-06 Close, 13.55\n",
            "2018-07-10 Close, 13.41\n",
            "2018-07-11 Close, 13.15\n",
            "2018-07-12 Close, 13.56\n",
            "2018-07-13 Close, 13.68\n",
            "2018-07-16 Close, 13.51\n",
            "2018-07-17 Close, 13.82\n",
            "2018-07-18 Close, 13.64\n",
            "2018-07-19 Close, 13.90\n",
            "2018-07-20 Close, 14.57\n",
            "2018-07-23 Close, 14.55\n",
            "2018-07-24 Close, 14.85\n",
            "2018-07-25 Close, 15.08\n",
            "2018-07-26 Close, 14.66\n",
            "2018-07-27 Close, 14.94\n",
            "2018-07-30 Close, 15.03\n",
            "2018-07-31 Close, 14.90\n",
            "2018-08-01 Close, 15.12\n",
            "2018-08-02 Close, 15.42\n",
            "2018-08-03 Close, 15.95\n",
            "2018-08-06 Close, 15.90\n",
            "2018-08-07 Close, 15.65\n",
            "2018-08-08 Close, 15.22\n",
            "2018-08-09 Close, 15.37\n",
            "2018-08-10 Close, 14.80\n",
            "2018-08-13 Close, 15.14\n",
            "2018-08-14 Close, 15.13\n",
            "2018-08-15 Close, 14.43\n",
            "2018-08-16 Close, 14.35\n",
            "2018-08-17 Close, 13.98\n",
            "2018-08-20 Close, 13.91\n",
            "2018-08-21 Close, 13.42\n",
            "2018-08-22 Close, 13.90\n",
            "2018-08-23 Close, 13.60\n",
            "2018-08-24 Close, 13.86\n",
            "2018-08-27 Close, 14.17\n",
            "2018-08-28 Close, 13.90\n",
            "2018-08-29 Close, 14.62\n",
            "2018-08-30 Close, 14.24\n",
            "2018-08-31 Close, 14.59\n",
            "2018-09-03 Close, 14.39\n",
            "2018-09-04 Close, 14.13\n",
            "2018-09-05 Close, 14.20\n",
            "2018-09-06 Close, 14.38\n",
            "2018-09-10 Close, 14.59\n",
            "2018-09-11 Close, 14.01\n",
            "2018-09-12 Close, 14.35\n",
            "2018-09-13 Close, 14.17\n",
            "2018-09-14 Close, 14.23\n",
            "2018-09-17 Close, 14.69\n",
            "2018-09-18 Close, 15.34\n",
            "2018-09-19 Close, 15.13\n",
            "2018-09-20 Close, 15.05\n",
            "2018-09-21 Close, 15.25\n",
            "2018-09-24 Close, 15.15\n",
            "2018-09-25 Close, 15.21\n",
            "2018-09-26 Close, 15.29\n",
            "2018-09-27 Close, 16.25\n",
            "2018-09-28 Close, 15.97\n",
            "2018-10-01 Close, 15.91\n",
            "2018-10-02 Close, 17.28\n",
            "2018-10-03 Close, 18.02\n",
            "2018-10-04 Close, 18.19\n",
            "2018-10-05 Close, 18.15\n",
            "2018-10-08 Close, 20.15\n",
            "2018-10-09 Close, 20.31\n",
            "2018-10-10 Close, 19.73\n",
            "2018-10-11 Close, 19.16\n",
            "2018-10-15 Close, 19.52\n",
            "2018-10-16 Close, 20.25\n",
            "2018-10-17 Close, 20.03\n",
            "2018-10-18 Close, 19.47\n",
            "2018-10-19 Close, 19.63\n",
            "2018-10-22 Close, 20.09\n",
            "2018-10-23 Close, 19.84\n",
            "2018-10-24 Close, 19.45\n",
            "2018-10-25 Close, 19.94\n",
            "2018-10-26 Close, 20.90\n",
            "2018-10-29 Close, 20.01\n",
            "2018-10-30 Close, 21.21\n",
            "2018-10-31 Close, 20.92\n",
            "2018-11-01 Close, 20.69\n",
            "2018-11-05 Close, 21.33\n",
            "2018-11-06 Close, 20.59\n",
            "2018-11-07 Close, 19.92\n",
            "2018-11-08 Close, 19.20\n",
            "2018-11-09 Close, 19.28\n",
            "2018-11-12 Close, 19.19\n",
            "2018-11-13 Close, 18.36\n",
            "2018-11-14 Close, 19.01\n",
            "2018-11-16 Close, 19.54\n",
            "2018-11-19 Close, 19.69\n",
            "2018-11-21 Close, 19.06\n",
            "2018-11-22 Close, 19.13\n",
            "2018-11-23 Close, 18.53\n",
            "2018-11-26 Close, 18.44\n",
            "2018-11-27 Close, 19.41\n",
            "2018-11-28 Close, 19.30\n",
            "2018-11-29 Close, 19.14\n",
            "2018-11-30 Close, 19.36\n",
            "2018-12-03 Close, 19.73\n",
            "2018-12-04 Close, 19.27\n",
            "2018-12-05 Close, 19.44\n",
            "2018-12-06 Close, 18.70\n",
            "2018-12-07 Close, 18.84\n",
            "2018-12-10 Close, 17.82\n",
            "2018-12-11 Close, 17.71\n",
            "2018-12-12 Close, 17.72\n",
            "2018-12-13 Close, 17.76\n",
            "2018-12-14 Close, 17.53\n",
            "2018-12-17 Close, 17.39\n",
            "2018-12-18 Close, 16.73\n",
            "2018-12-19 Close, 16.92\n",
            "2018-12-20 Close, 16.34\n",
            "2018-12-21 Close, 16.39\n",
            "2018-12-26 Close, 17.05\n",
            "2018-12-27 Close, 17.05\n",
            "2018-12-28 Close, 17.84\n",
            "2019-01-02 Close, 18.93\n",
            "2019-01-03 Close, 19.39\n",
            "2019-01-04 Close, 19.44\n",
            "2019-01-07 Close, 19.75\n",
            "2019-01-08 Close, 19.63\n",
            "2019-01-09 Close, 20.04\n",
            "2019-01-10 Close, 19.87\n",
            "2019-01-11 Close, 19.66\n",
            "2019-01-14 Close, 19.55\n",
            "2019-01-15 Close, 19.53\n",
            "2019-01-16 Close, 19.52\n",
            "2019-01-17 Close, 19.79\n",
            "2019-01-18 Close, 19.98\n",
            "2019-01-21 Close, 20.08\n",
            "2019-01-22 Close, 19.77\n",
            "2019-01-23 Close, 20.00\n",
            "2019-01-24 Close, 20.09\n",
            "2019-01-28 Close, 19.48\n",
            "2019-01-29 Close, 19.96\n",
            "2019-01-30 Close, 20.15\n",
            "2019-01-31 Close, 20.12\n",
            "2019-02-01 Close, 20.29\n",
            "2019-02-04 Close, 20.48\n",
            "2019-02-05 Close, 20.51\n",
            "2019-02-06 Close, 20.05\n",
            "2019-02-07 Close, 19.74\n",
            "2019-02-08 Close, 19.77\n",
            "2019-02-11 Close, 19.54\n",
            "2019-02-12 Close, 20.23\n",
            "2019-02-13 Close, 20.49\n",
            "2019-02-14 Close, 21.20\n",
            "2019-02-15 Close, 21.11\n",
            "2019-02-18 Close, 21.05\n",
            "2019-02-19 Close, 21.54\n",
            "2019-02-20 Close, 21.27\n",
            "2019-02-21 Close, 21.55\n",
            "2019-02-22 Close, 21.34\n",
            "2019-02-25 Close, 21.00\n",
            "2019-02-26 Close, 20.91\n",
            "2019-02-27 Close, 21.30\n",
            "2019-02-28 Close, 21.29\n",
            "2019-03-01 Close, 21.00\n",
            "2019-03-06 Close, 21.05\n",
            "2019-03-07 Close, 21.06\n",
            "2019-03-08 Close, 20.98\n",
            "2019-03-11 Close, 21.83\n",
            "2019-03-12 Close, 21.63\n",
            "2019-03-13 Close, 22.10\n",
            "2019-03-14 Close, 22.17\n",
            "2019-03-15 Close, 22.22\n",
            "2019-03-18 Close, 22.61\n",
            "2019-03-19 Close, 22.97\n",
            "2019-03-20 Close, 22.79\n",
            "2019-03-21 Close, 22.47\n",
            "2019-03-22 Close, 21.24\n",
            "2019-03-25 Close, 21.51\n",
            "2019-03-26 Close, 22.52\n",
            "2019-03-27 Close, 21.51\n",
            "2019-03-28 Close, 22.07\n",
            "2019-03-29 Close, 22.07\n",
            "2019-04-01 Close, 22.02\n",
            "2019-04-02 Close, 22.25\n",
            "2019-04-03 Close, 21.66\n",
            "2019-04-04 Close, 22.39\n",
            "2019-04-05 Close, 22.64\n",
            "2019-04-08 Close, 23.01\n",
            "2019-04-09 Close, 22.94\n",
            "2019-04-10 Close, 22.64\n",
            "2019-04-11 Close, 22.02\n",
            "2019-04-12 Close, 20.32\n",
            "2019-04-15 Close, 20.40\n",
            "2019-04-16 Close, 21.02\n",
            "2019-04-17 Close, 21.04\n",
            "2019-04-18 Close, 21.71\n",
            "2019-04-22 Close, 21.58\n",
            "2019-04-23 Close, 21.77\n",
            "2019-04-24 Close, 21.71\n",
            "2019-04-25 Close, 21.87\n",
            "2019-04-26 Close, 21.45\n",
            "2019-04-29 Close, 21.54\n",
            "2019-04-30 Close, 21.34\n",
            "2019-05-02 Close, 21.04\n",
            "2019-05-03 Close, 21.14\n",
            "2019-05-06 Close, 21.07\n",
            "2019-05-07 Close, 20.74\n",
            "2019-05-08 Close, 21.54\n",
            "2019-05-09 Close, 21.12\n",
            "2019-05-10 Close, 21.00\n",
            "2019-05-13 Close, 20.39\n",
            "2019-05-14 Close, 20.47\n",
            "2019-05-15 Close, 20.37\n",
            "2019-05-16 Close, 19.89\n",
            "2019-05-17 Close, 19.43\n",
            "2019-05-20 Close, 20.09\n",
            "2019-05-21 Close, 20.85\n",
            "2019-05-22 Close, 20.77\n",
            "2019-05-23 Close, 20.42\n",
            "2019-05-24 Close, 20.61\n",
            "2019-05-27 Close, 20.73\n",
            "2019-05-28 Close, 21.18\n",
            "2019-05-29 Close, 20.94\n",
            "2019-05-30 Close, 20.66\n",
            "2019-05-31 Close, 20.19\n",
            "2019-06-03 Close, 20.54\n",
            "2019-06-04 Close, 20.70\n",
            "2019-06-05 Close, 20.43\n",
            "2019-06-06 Close, 20.76\n",
            "2019-06-07 Close, 21.14\n",
            "2019-06-10 Close, 21.06\n",
            "2019-06-11 Close, 21.46\n",
            "2019-06-12 Close, 21.22\n",
            "2019-06-13 Close, 21.48\n",
            "2019-06-14 Close, 21.38\n",
            "2019-06-17 Close, 21.42\n",
            "2019-06-18 Close, 21.69\n",
            "2019-06-19 Close, 21.74\n",
            "2019-06-21 Close, 22.35\n",
            "2019-06-24 Close, 22.32\n",
            "2019-06-25 Close, 21.74\n",
            "2019-06-26 Close, 21.86\n",
            "2019-06-27 Close, 21.52\n",
            "2019-06-28 Close, 21.66\n",
            "2019-07-01 Close, 21.54\n",
            "2019-07-02 Close, 21.19\n",
            "2019-07-03 Close, 21.48\n",
            "2019-07-04 Close, 21.64\n",
            "2019-07-05 Close, 21.65\n",
            "2019-07-08 Close, 21.85\n",
            "2019-07-10 Close, 22.18\n",
            "2019-07-11 Close, 22.44\n",
            "2019-07-12 Close, 22.54\n",
            "2019-07-15 Close, 22.27\n",
            "2019-07-16 Close, 21.99\n",
            "2019-07-17 Close, 21.87\n",
            "2019-07-18 Close, 21.74\n",
            "2019-07-19 Close, 21.68\n",
            "2019-07-22 Close, 21.72\n",
            "2019-07-23 Close, 21.74\n",
            "2019-07-24 Close, 21.61\n",
            "2019-07-25 Close, 21.25\n",
            "2019-07-26 Close, 20.65\n",
            "2019-07-29 Close, 20.84\n",
            "2019-07-30 Close, 20.73\n",
            "2019-07-31 Close, 20.61\n",
            "2019-08-01 Close, 20.74\n",
            "2019-08-02 Close, 20.95\n",
            "2019-08-05 Close, 20.19\n",
            "2019-08-06 Close, 20.45\n",
            "2019-08-07 Close, 20.23\n",
            "2019-08-08 Close, 20.82\n",
            "2019-08-09 Close, 20.76\n",
            "2019-08-12 Close, 20.27\n",
            "2019-08-13 Close, 20.54\n",
            "2019-08-14 Close, 19.84\n",
            "2019-08-15 Close, 19.30\n",
            "2019-08-16 Close, 19.04\n",
            "2019-08-19 Close, 19.14\n",
            "2019-08-20 Close, 19.13\n",
            "2019-08-21 Close, 20.27\n",
            "2019-08-22 Close, 20.08\n",
            "2019-08-23 Close, 19.34\n",
            "2019-08-26 Close, 19.08\n",
            "2019-08-27 Close, 19.38\n",
            "2019-08-28 Close, 19.58\n",
            "2019-08-29 Close, 20.31\n",
            "2019-08-30 Close, 20.31\n",
            "2019-09-02 Close, 20.15\n",
            "2019-09-03 Close, 20.39\n",
            "2019-09-04 Close, 20.91\n",
            "2019-09-05 Close, 21.02\n",
            "2019-09-06 Close, 21.12\n",
            "2019-09-09 Close, 21.45\n",
            "2019-09-10 Close, 21.58\n",
            "2019-09-11 Close, 21.40\n",
            "2019-09-12 Close, 21.55\n",
            "2019-09-13 Close, 21.41\n",
            "2019-09-16 Close, 22.35\n",
            "2019-09-17 Close, 22.05\n",
            "2019-09-18 Close, 21.68\n",
            "2019-09-19 Close, 21.73\n",
            "2019-09-20 Close, 21.50\n",
            "2019-09-23 Close, 21.88\n",
            "2019-09-24 Close, 21.72\n",
            "2019-09-25 Close, 21.77\n",
            "2019-09-26 Close, 22.06\n",
            "2019-09-27 Close, 22.03\n",
            "2019-09-30 Close, 21.94\n",
            "2019-10-01 Close, 21.91\n",
            "2019-10-02 Close, 21.28\n",
            "2019-10-03 Close, 21.29\n",
            "2019-10-04 Close, 21.11\n",
            "2019-10-07 Close, 20.84\n",
            "2019-10-08 Close, 20.72\n",
            "2019-10-09 Close, 21.12\n",
            "2019-10-10 Close, 21.29\n",
            "2019-10-11 Close, 21.71\n",
            "2019-10-14 Close, 21.75\n",
            "2019-10-15 Close, 21.98\n",
            "2019-10-16 Close, 22.24\n",
            "2019-10-17 Close, 22.03\n",
            "2019-10-18 Close, 21.98\n",
            "2019-10-21 Close, 22.11\n",
            "2019-10-22 Close, 22.75\n",
            "2019-10-23 Close, 23.05\n",
            "2019-10-24 Close, 22.55\n",
            "2019-10-25 Close, 23.29\n",
            "2019-10-28 Close, 23.57\n",
            "2019-10-29 Close, 23.75\n",
            "2019-10-30 Close, 23.95\n",
            "2019-10-31 Close, 24.20\n",
            "2019-11-01 Close, 24.23\n",
            "2019-11-04 Close, 24.18\n",
            "2019-11-05 Close, 23.61\n",
            "2019-11-06 Close, 23.66\n",
            "2019-11-07 Close, 24.61\n",
            "2019-11-08 Close, 23.91\n",
            "2019-11-11 Close, 24.25\n",
            "2019-11-12 Close, 24.07\n",
            "2019-11-13 Close, 23.97\n",
            "2019-11-14 Close, 23.49\n",
            "2019-11-18 Close, 23.31\n",
            "2019-11-19 Close, 23.07\n",
            "2019-11-21 Close, 23.93\n",
            "2019-11-22 Close, 24.03\n",
            "2019-11-25 Close, 23.83\n",
            "2019-11-26 Close, 23.40\n",
            "2019-11-27 Close, 23.51\n",
            "2019-11-28 Close, 23.67\n",
            "2019-11-29 Close, 23.37\n",
            "2019-12-02 Close, 23.30\n",
            "2019-12-03 Close, 23.23\n",
            "2019-12-04 Close, 23.78\n",
            "2019-12-05 Close, 24.09\n",
            "2019-12-06 Close, 24.33\n",
            "2019-12-09 Close, 24.22\n",
            "2019-12-10 Close, 24.40\n",
            "2019-12-11 Close, 24.37\n",
            "2019-12-12 Close, 24.83\n",
            "2019-12-13 Close, 24.03\n",
            "2019-12-16 Close, 23.58\n",
            "2019-12-17 Close, 23.93\n",
            "2019-12-18 Close, 24.48\n",
            "2019-12-19 Close, 24.54\n",
            "2019-12-20 Close, 24.26\n",
            "2019-12-23 Close, 24.45\n",
            "2019-12-26 Close, 24.78\n",
            "2019-12-27 Close, 24.80\n",
            "2019-12-30 Close, 24.53\n",
            "2020-01-02 Close, 24.95\n",
            "2020-01-03 Close, 24.75\n",
            "2020-01-06 Close, 25.04\n",
            "2020-01-07 Close, 24.94\n",
            "2020-01-08 Close, 24.79\n",
            "2020-01-09 Close, 24.71\n",
            "2020-01-10 Close, 24.60\n",
            "2020-01-13 Close, 24.65\n",
            "2020-01-14 Close, 24.38\n",
            "2020-01-15 Close, 24.02\n",
            "2020-01-16 Close, 23.99\n",
            "2020-01-17 Close, 24.26\n",
            "2020-01-20 Close, 24.38\n",
            "2020-01-21 Close, 24.07\n",
            "2020-01-22 Close, 23.80\n",
            "2020-01-23 Close, 24.10\n",
            "2020-01-24 Close, 23.81\n",
            "2020-01-27 Close, 22.78\n",
            "2020-01-28 Close, 23.41\n",
            "2020-01-29 Close, 23.45\n",
            "2020-01-30 Close, 23.52\n",
            "2020-01-31 Close, 23.12\n",
            "2020-02-03 Close, 22.90\n",
            "2020-02-04 Close, 23.27\n",
            "2020-02-05 Close, 23.07\n",
            "2020-02-06 Close, 23.72\n",
            "2020-02-07 Close, 23.51\n",
            "2020-02-10 Close, 23.67\n",
            "2020-02-11 Close, 23.96\n",
            "2020-02-12 Close, 24.49\n",
            "2020-02-13 Close, 24.15\n",
            "2020-02-14 Close, 23.91\n",
            "2020-02-17 Close, 23.86\n",
            "2020-02-18 Close, 24.18\n",
            "2020-02-19 Close, 24.83\n",
            "2020-02-20 Close, 24.32\n",
            "2020-02-21 Close, 23.68\n",
            "2020-02-26 Close, 21.30\n",
            "2020-02-27 Close, 20.56\n",
            "2020-02-28 Close, 20.59\n",
            "2020-03-02 Close, 21.56\n",
            "2020-03-03 Close, 21.17\n",
            "2020-03-04 Close, 21.85\n",
            "2020-03-05 Close, 20.55\n",
            "2020-03-06 Close, 18.55\n",
            "2020-03-09 Close, 13.04\n",
            "2020-03-10 Close, 14.27\n",
            "2020-03-11 Close, 12.88\n",
            "2020-03-12 Close, 10.24\n",
            "2020-03-13 Close, 12.52\n",
            "2020-03-16 Close, 10.64\n",
            "2020-03-17 Close, 10.57\n",
            "2020-03-18 Close, 9.18\n",
            "2020-03-19 Close, 9.92\n",
            "2020-03-20 Close, 9.75\n",
            "2020-03-23 Close, 9.35\n",
            "2020-03-24 Close, 10.77\n",
            "2020-03-25 Close, 11.64\n",
            "2020-03-26 Close, 11.70\n",
            "2020-03-27 Close, 10.81\n",
            "2020-03-30 Close, 10.87\n",
            "2020-03-31 Close, 11.37\n",
            "2020-04-01 Close, 11.62\n",
            "2020-04-02 Close, 12.61\n",
            "2020-04-03 Close, 12.47\n",
            "2020-04-06 Close, 12.82\n",
            "2020-04-07 Close, 13.33\n",
            "2020-04-08 Close, 14.08\n",
            "2020-04-09 Close, 13.67\n",
            "2020-04-13 Close, 13.76\n",
            "2020-04-14 Close, 13.60\n",
            "2020-04-15 Close, 13.31\n",
            "2020-04-16 Close, 12.78\n",
            "2020-04-17 Close, 13.11\n",
            "2020-04-20 Close, 12.96\n",
            "2020-04-22 Close, 13.61\n",
            "2020-04-23 Close, 13.78\n",
            "2020-04-24 Close, 12.96\n",
            "2020-04-27 Close, 13.37\n",
            "2020-04-28 Close, 14.02\n",
            "2020-04-29 Close, 14.79\n",
            "2020-04-30 Close, 14.67\n",
            "2020-05-04 Close, 14.13\n",
            "2020-05-05 Close, 14.58\n",
            "2020-05-06 Close, 14.04\n",
            "2020-05-07 Close, 14.17\n",
            "2020-05-08 Close, 15.02\n",
            "2020-05-11 Close, 14.75\n",
            "2020-05-12 Close, 14.74\n",
            "2020-05-13 Close, 14.30\n",
            "2020-05-14 Close, 14.14\n",
            "2020-05-15 Close, 13.94\n",
            "2020-05-18 Close, 15.07\n",
            "2020-05-19 Close, 15.18\n",
            "2020-05-20 Close, 15.69\n",
            "2020-05-21 Close, 15.60\n",
            "2020-05-22 Close, 15.17\n",
            "2020-05-25 Close, 15.83\n",
            "2020-05-26 Close, 15.99\n",
            "2020-05-27 Close, 16.20\n",
            "2020-05-28 Close, 16.07\n",
            "2020-05-29 Close, 16.53\n",
            "2020-06-01 Close, 16.52\n",
            "2020-06-02 Close, 17.39\n",
            "2020-06-03 Close, 17.45\n",
            "2020-06-04 Close, 17.42\n",
            "2020-06-05 Close, 17.96\n",
            "2020-06-08 Close, 18.31\n",
            "2020-06-09 Close, 17.65\n",
            "2020-06-10 Close, 17.39\n",
            "2020-06-12 Close, 16.74\n",
            "2020-06-15 Close, 16.82\n",
            "2020-06-16 Close, 17.37\n",
            "2020-06-17 Close, 17.43\n",
            "2020-06-18 Close, 17.56\n",
            "2020-06-19 Close, 17.45\n",
            "2020-06-22 Close, 17.03\n",
            "2020-06-23 Close, 17.60\n",
            "2020-06-24 Close, 17.07\n",
            "2020-06-25 Close, 17.45\n",
            "2020-06-26 Close, 16.94\n",
            "2020-06-29 Close, 17.60\n",
            "2020-06-30 Close, 17.52\n",
            "2020-07-01 Close, 17.65\n",
            "2020-07-02 Close, 17.93\n",
            "2020-07-03 Close, 17.86\n",
            "2020-07-06 Close, 18.30\n",
            "2020-07-07 Close, 18.07\n",
            "2020-07-08 Close, 18.41\n",
            "2020-07-09 Close, 17.99\n",
            "2020-07-10 Close, 18.30\n",
            "2020-07-13 Close, 18.01\n",
            "2020-07-14 Close, 18.61\n",
            "2020-07-15 Close, 18.97\n",
            "2020-07-16 Close, 18.47\n",
            "2020-07-17 Close, 18.48\n",
            "2020-07-20 Close, 18.48\n",
            "2020-07-21 Close, 18.99\n",
            "2020-07-22 Close, 18.73\n",
            "2020-07-23 Close, 18.34\n",
            "2020-07-24 Close, 18.47\n",
            "2020-07-27 Close, 18.86\n",
            "2020-07-28 Close, 18.53\n",
            "2020-07-29 Close, 18.83\n",
            "2020-07-30 Close, 18.55\n",
            "2020-07-31 Close, 18.04\n",
            "2020-08-03 Close, 17.72\n",
            "2020-08-04 Close, 17.70\n",
            "2020-08-05 Close, 18.84\n",
            "2020-08-06 Close, 18.87\n",
            "2020-08-07 Close, 18.52\n",
            "2020-08-10 Close, 19.06\n",
            "2020-08-11 Close, 18.76\n",
            "2020-08-12 Close, 19.08\n",
            "2020-08-13 Close, 18.56\n",
            "2020-08-14 Close, 18.43\n",
            "2020-08-17 Close, 18.37\n",
            "2020-08-18 Close, 18.71\n",
            "2020-08-19 Close, 18.60\n",
            "2020-08-20 Close, 18.47\n",
            "2020-08-21 Close, 18.34\n",
            "2020-08-24 Close, 18.67\n",
            "2020-08-25 Close, 18.59\n",
            "2020-08-26 Close, 18.06\n",
            "2020-08-27 Close, 18.00\n",
            "2020-08-28 Close, 18.32\n",
            "2020-08-31 Close, 17.79\n",
            "2020-09-01 Close, 18.59\n",
            "2020-09-02 Close, 18.53\n",
            "2020-09-03 Close, 18.60\n",
            "2020-09-04 Close, 18.63\n",
            "2020-09-08 Close, 18.09\n",
            "2020-09-09 Close, 18.47\n",
            "2020-09-10 Close, 17.98\n",
            "2020-09-11 Close, 17.78\n",
            "2020-09-14 Close, 17.62\n",
            "2020-09-15 Close, 17.61\n",
            "2020-09-16 Close, 17.66\n",
            "2020-09-17 Close, 18.00\n",
            "2020-09-18 Close, 17.60\n",
            "2020-09-21 Close, 16.99\n",
            "2020-09-22 Close, 16.91\n",
            "2020-09-23 Close, 16.44\n",
            "2020-09-24 Close, 16.58\n",
            "2020-09-25 Close, 16.36\n",
            "2020-09-28 Close, 15.96\n",
            "2020-09-29 Close, 15.70\n",
            "2020-09-30 Close, 15.94\n",
            "2020-10-01 Close, 16.13\n",
            "2020-10-02 Close, 15.46\n",
            "2020-10-05 Close, 16.28\n",
            "2020-10-06 Close, 16.20\n",
            "2020-10-07 Close, 16.09\n",
            "2020-10-08 Close, 16.61\n",
            "2020-10-09 Close, 16.09\n",
            "2020-10-13 Close, 16.36\n",
            "2020-10-14 Close, 16.23\n",
            "2020-10-15 Close, 16.05\n",
            "2020-10-16 Close, 15.71\n",
            "2020-10-19 Close, 15.87\n",
            "2020-10-20 Close, 16.40\n",
            "2020-10-21 Close, 16.39\n",
            "2020-10-22 Close, 16.94\n",
            "2020-10-23 Close, 16.72\n",
            "2020-10-26 Close, 16.46\n",
            "2020-10-27 Close, 16.16\n",
            "2020-10-28 Close, 15.17\n",
            "2020-10-29 Close, 15.68\n",
            "2020-10-30 Close, 15.39\n",
            "2020-11-03 Close, 15.97\n",
            "2020-11-04 Close, 16.03\n",
            "2020-11-05 Close, 16.17\n",
            "2020-11-06 Close, 16.05\n",
            "2020-11-09 Close, 17.56\n",
            "2020-11-10 Close, 18.76\n",
            "2020-11-11 Close, 18.60\n",
            "2020-11-12 Close, 17.81\n",
            "2020-11-13 Close, 18.39\n",
            "2020-11-16 Close, 18.93\n",
            "2020-11-17 Close, 19.26\n",
            "2020-11-18 Close, 19.14\n",
            "2020-11-19 Close, 19.36\n",
            "2020-11-23 Close, 20.40\n",
            "2020-11-24 Close, 21.31\n",
            "2020-11-25 Close, 21.34\n",
            "2020-11-26 Close, 20.99\n",
            "2020-11-27 Close, 20.73\n",
            "2020-11-30 Close, 20.24\n",
            "2020-12-01 Close, 20.81\n",
            "2020-12-02 Close, 21.06\n",
            "2020-12-03 Close, 21.65\n",
            "2020-12-04 Close, 22.38\n",
            "2020-12-07 Close, 21.95\n",
            "2020-12-08 Close, 21.67\n",
            "2020-12-09 Close, 21.90\n",
            "2020-12-10 Close, 22.61\n",
            "2020-12-11 Close, 22.41\n",
            "2020-12-14 Close, 22.45\n",
            "2020-12-15 Close, 22.64\n",
            "2020-12-16 Close, 22.91\n",
            "2020-12-17 Close, 22.95\n",
            "2020-12-18 Close, 22.84\n",
            "2020-12-21 Close, 21.96\n",
            "2020-12-22 Close, 22.17\n",
            "2020-12-23 Close, 22.72\n",
            "2020-12-28 Close, 22.90\n",
            "2020-12-29 Close, 22.98\n",
            "2020-12-30 Close, 23.03\n",
            "2021-01-04 Close, 23.50\n",
            "2021-01-05 Close, 24.42\n",
            "2021-01-06 Close, 24.47\n",
            "2021-01-07 Close, 25.20\n",
            "2021-01-08 Close, 25.29\n",
            "2021-01-11 Close, 25.08\n",
            "2021-01-12 Close, 24.90\n",
            "2021-01-13 Close, 23.69\n",
            "2021-01-14 Close, 23.94\n",
            "2021-01-15 Close, 22.86\n",
            "2021-01-18 Close, 22.82\n",
            "2021-01-19 Close, 23.32\n",
            "2021-01-20 Close, 22.93\n",
            "2021-01-21 Close, 22.39\n",
            "2021-01-22 Close, 22.02\n",
            "2021-01-26 Close, 21.95\n",
            "2021-01-27 Close, 22.27\n",
            "2021-01-28 Close, 22.56\n",
            "2021-01-29 Close, 21.69\n",
            "2021-02-01 Close, 22.38\n",
            "2021-02-02 Close, 23.29\n",
            "2021-02-03 Close, 23.52\n",
            "2021-02-04 Close, 23.42\n",
            "2021-02-05 Close, 23.44\n",
            "2021-02-08 Close, 22.85\n",
            "2021-02-09 Close, 22.38\n",
            "2021-02-10 Close, 22.60\n",
            "2021-02-11 Close, 22.82\n",
            "2021-02-12 Close, 23.12\n",
            "2021-02-17 Close, 24.05\n",
            "2021-02-18 Close, 23.79\n",
            "2021-02-19 Close, 22.21\n",
            "2021-02-22 Close, 17.61\n",
            "2021-02-23 Close, 19.56\n",
            "2021-02-24 Close, 19.83\n",
            "2021-02-25 Close, 18.85\n",
            "2021-02-26 Close, 18.08\n",
            "2021-03-01 Close, 17.88\n",
            "2021-03-02 Close, 17.87\n",
            "2021-03-03 Close, 17.22\n",
            "2021-03-04 Close, 18.06\n",
            "2021-03-05 Close, 18.20\n",
            "2021-03-08 Close, 17.15\n",
            "2021-03-09 Close, 17.55\n",
            "2021-03-10 Close, 18.16\n",
            "2021-03-11 Close, 18.93\n",
            "2021-03-12 Close, 18.83\n",
            "2021-03-15 Close, 19.22\n",
            "2021-03-16 Close, 18.92\n",
            "2021-03-17 Close, 19.57\n",
            "2021-03-18 Close, 18.89\n",
            "2021-03-19 Close, 19.51\n",
            "2021-03-22 Close, 19.12\n",
            "2021-03-23 Close, 18.53\n",
            "2021-03-24 Close, 18.55\n",
            "2021-03-25 Close, 18.86\n",
            "2021-03-26 Close, 19.07\n",
            "2021-03-29 Close, 19.37\n",
            "2021-03-30 Close, 19.37\n",
            "2021-03-31 Close, 19.59\n",
            "2021-04-01 Close, 19.42\n",
            "2021-04-05 Close, 19.54\n",
            "2021-04-06 Close, 19.52\n",
            "2021-04-07 Close, 19.51\n",
            "2021-04-08 Close, 19.26\n",
            "2021-04-09 Close, 19.22\n",
            "2021-04-12 Close, 19.42\n",
            "2021-04-13 Close, 19.48\n",
            "2021-04-14 Close, 19.79\n",
            "2021-04-15 Close, 19.40\n",
            "2021-04-16 Close, 19.28\n",
            "2021-04-19 Close, 20.40\n",
            "2021-04-20 Close, 20.01\n",
            "2021-04-22 Close, 19.92\n",
            "2021-04-23 Close, 19.90\n",
            "2021-04-26 Close, 19.98\n",
            "2021-04-27 Close, 19.41\n",
            "2021-04-28 Close, 20.11\n",
            "2021-04-29 Close, 19.84\n",
            "2021-04-30 Close, 19.84\n",
            "2021-05-03 Close, 19.68\n",
            "2021-05-04 Close, 19.23\n",
            "2021-05-05 Close, 20.02\n",
            "2021-05-06 Close, 19.74\n",
            "2021-05-07 Close, 20.48\n",
            "2021-05-10 Close, 20.75\n",
            "2021-05-11 Close, 21.13\n",
            "2021-05-12 Close, 20.82\n",
            "2021-05-13 Close, 21.00\n",
            "2021-05-14 Close, 22.10\n",
            "2021-05-17 Close, 22.40\n",
            "2021-05-18 Close, 22.14\n",
            "2021-05-19 Close, 21.97\n",
            "2021-05-20 Close, 21.79\n",
            "2021-05-21 Close, 21.80\n",
            "2021-05-24 Close, 22.17\n",
            "2021-05-25 Close, 21.71\n",
            "2021-05-26 Close, 21.92\n",
            "2021-05-27 Close, 21.77\n",
            "2021-05-28 Close, 22.68\n",
            "2021-05-31 Close, 22.57\n",
            "2021-06-01 Close, 22.93\n",
            "2021-06-02 Close, 23.41\n",
            "2021-06-04 Close, 23.94\n",
            "2021-06-07 Close, 23.77\n",
            "2021-06-08 Close, 24.08\n",
            "2021-06-09 Close, 24.08\n",
            "2021-06-10 Close, 24.10\n",
            "2021-06-11 Close, 24.00\n",
            "2021-06-14 Close, 24.15\n",
            "2021-06-15 Close, 24.39\n",
            "2021-06-16 Close, 24.48\n",
            "2021-06-17 Close, 23.63\n",
            "2021-06-18 Close, 23.79\n",
            "2021-06-21 Close, 24.32\n",
            "2021-06-22 Close, 24.45\n",
            "2021-06-23 Close, 24.62\n",
            "2021-06-24 Close, 24.91\n",
            "2021-06-25 Close, 24.45\n",
            "2021-06-28 Close, 24.41\n",
            "2021-06-29 Close, 24.52\n",
            "2021-06-30 Close, 24.73\n"
          ]
        },
        {
          "output_type": "execute_result",
          "data": {
            "text/plain": [
              "[<__main__.PrintFechamento at 0x7f130fd0df10>]"
            ]
          },
          "metadata": {},
          "execution_count": 19
        }
      ]
    },
    {
      "cell_type": "markdown",
      "source": [
        "###5.2. Estratégia básica\n",
        "\n",
        "Criaremos aqui uma estratégia básica de rompimento de médias simples. A ideia é que quando o preço cruze a média para cima compramos e quando preço cruzar a média para baixo, vendemos."
      ],
      "metadata": {
        "id": "8duZdzc2_JGf"
      }
    },
    {
      "cell_type": "code",
      "source": [
        "wege3=yf.download('WEGE3.SA', '2011-01-01', '2021-07-01', auto_adjust=True, interval='5d')\n",
        "wege3.dropna(inplace=True)\n"
      ],
      "metadata": {
        "colab": {
          "base_uri": "https://localhost:8080/"
        },
        "id": "fsXDi8GAEWdb",
        "outputId": "b7332ad0-8193-4f78-ab2a-7f5de9bd9dbd"
      },
      "execution_count": null,
      "outputs": [
        {
          "output_type": "stream",
          "name": "stdout",
          "text": [
            "\r[*********************100%***********************]  1 of 1 completed\n"
          ]
        }
      ]
    },
    {
      "cell_type": "code",
      "source": [
        "data = bt.feeds.PandasData(dataname=wege3)"
      ],
      "metadata": {
        "id": "7eNf4IomGBwa"
      },
      "execution_count": null,
      "outputs": []
    },
    {
      "cell_type": "code",
      "source": [
        "from backtrader.indicators import crossover\n",
        "\n",
        "#para fazer o matplotlib rodar\n",
        "\n",
        "%matplotlib inline \n",
        "\n",
        "#Teste 2\n",
        "\n",
        "class MMACruzamento(bt.SignalStrategy):\n",
        "  def __init__(self): #cria uma função que roda imediatamente quando um objeto é criado a partir dessa classe\n",
        "    sma = bt.ind.SMA(period=26) #aqui você define o indicador\n",
        "    price = self.data #aqui é apontador do indicador\n",
        "    crossover = bt.ind.CrossOver(price,sma) #aqui é onde você define o sinal, aqui no caso é sinal de cruzamento\n",
        "    self.signal_add(bt.SIGNAL_LONG, crossover) \n",
        "\n",
        "cerebro = bt.Cerebro()\n",
        "cerebro.addstrategy(MMACruzamento)\n",
        "cerebro.adddata(data)\n",
        "cerebro.run()\n",
        "plt.rcParams['figure.figsize'] = [15, 12]\n",
        "plt.rcParams.update({'font.size': 12}) \n",
        "cerebro.plot(iplot = False)"
      ],
      "metadata": {
        "colab": {
          "base_uri": "https://localhost:8080/",
          "height": 856
        },
        "id": "S0NGUbOV_A0m",
        "outputId": "53eead70-a46b-4139-f761-1b1e4b5c78d8"
      },
      "execution_count": null,
      "outputs": [
        {
          "output_type": "display_data",
          "data": {
            "text/plain": [
              "<Figure size 1080x864 with 5 Axes>"
            ],
            "image/png": "[encoded data removed]"
          },
          "metadata": {
            "needs_background": "light"
          }
        },
        {
          "output_type": "execute_result",
          "data": {
            "text/plain": [
              "[[<Figure size 1080x864 with 5 Axes>]]"
            ]
          },
          "metadata": {},
          "execution_count": 24
        }
      ]
    },
    {
      "cell_type": "markdown",
      "source": [
        "###5.3. Estratégia com indicador Índice de Força Relativa"
      ],
      "metadata": {
        "id": "iXdVYr5m_VM7"
      }
    },
    {
      "cell_type": "code",
      "source": [
        "data2 = bt.feeds.PandasData(dataname=yf.download('PETR4.SA', '2017-01-01', '2021-07-01', auto_adjust=True))"
      ],
      "metadata": {
        "colab": {
          "base_uri": "https://localhost:8080/"
        },
        "id": "6nHPJijdDEPC",
        "outputId": "6dbe13d9-8f6f-4842-a74f-a569a6566b61"
      },
      "execution_count": null,
      "outputs": [
        {
          "output_type": "stream",
          "name": "stdout",
          "text": [
            "\r[*********************100%***********************]  1 of 1 completed\n"
          ]
        }
      ]
    },
    {
      "cell_type": "code",
      "source": [
        "class RSI(bt.SignalStrategy):\n",
        "  def __init__(self): #cria uma função que roda imediatamente quando um objeto é criado a partir dessa classe\n",
        "    self.rsi = bt.ind.RSI() #aqui você define o indicador\n",
        "  def next(self):\n",
        "    if not self.position:\n",
        "      if self.rsi < 45:\n",
        "          self.buy(size=100)\n",
        "    else:\n",
        "      if self.rsi > 65:\n",
        "          self.sell(size=100)"
      ],
      "metadata": {
        "id": "Jx5vjtRO_drP"
      },
      "execution_count": null,
      "outputs": []
    },
    {
      "cell_type": "code",
      "source": [
        "cerebro = bt.Cerebro()\n",
        "cerebro.addstrategy(RSI)\n",
        "cerebro.adddata(data2)\n",
        "#cerebro.addsizer(bt.sizers.SizerFix, stake=10)#fazer a compra de 10 ações   \n",
        "cerebro.run()\n",
        "plt.rcParams['figure.figsize'] = [15, 12]\n",
        "plt.rcParams.update({'font.size': 12}) \n",
        "cerebro.plot(iplot = False)"
      ],
      "metadata": {
        "colab": {
          "base_uri": "https://localhost:8080/",
          "height": 856
        },
        "id": "GCWY8vfQ_g2m",
        "outputId": "6a462a32-e339-4959-e90a-1802eb3c7349"
      },
      "execution_count": null,
      "outputs": [
        {
          "output_type": "display_data",
          "data": {
            "text/plain": [
              "<Figure size 1080x864 with 5 Axes>"
            ],
            "image/png": "[encoded data removed]"
          },
          "metadata": {
            "needs_background": "light"
          }
        },
        {
          "output_type": "execute_result",
          "data": {
            "text/plain": [
              "[[<Figure size 1080x864 with 5 Axes>]]"
            ]
          },
          "metadata": {},
          "execution_count": 27
        }
      ]
    },
    {
      "cell_type": "markdown",
      "source": [
        "###5.4. Captando os dados da estratégia\n",
        "\n",
        "Muitas vezes é necessário analisar o operacional linha a linha da estratégia para ver se ela está sendo executada de maneira correta, para isso utilizamos o método abaixo:"
      ],
      "metadata": {
        "id": "lDxKqNSV_rUd"
      }
    },
    {
      "cell_type": "code",
      "source": [
        "class Cruzamento_Preco_MMA(bt.Strategy):\n",
        "  \n",
        "  params = (('MMA',9),)\n",
        "  \n",
        "  def __init__(self):\n",
        "    sma = bt.indicators.MovingAverageSimple(self.datas[0],period=self.params.MMA)\n",
        "    price = self.datas[0]\n",
        "    self.crossover = bt.indicators.CrossOver(price,sma)\n",
        "    self.sma = sma\n",
        "    self.price = price\n",
        "      \n",
        "  def log(self, txt, dt=None):\n",
        "    dt = self.datas[0].datetime.date(0)\n",
        "    print(f'{dt}: {txt}')\n",
        "\n",
        "  def next(self):\n",
        "    if not self.position and self.crossover >0: \n",
        "      self.log('|| MMMA %.0fp = R$ %.2f || Close = R$ %.2f || Posição crossover = %.0f || (BuyAtMarket)' % ((self.params.MMA),(self.sma[0]),(self.price[0]),(self.crossover[0])))\n",
        "      self.buy()\n",
        "    \n",
        "    elif self.crossover < 0 and self.position:\n",
        "      self.sell()\n",
        "      self.log('|| MMMA %.0fp = R$ %.2f || Close = R$ %.2f || Posição crossover = %.0f || (SellAtMarket)' % ((self.params.MMA),(self.sma[0]),(self.price[0]),(self.crossover[0])))\n"
      ],
      "metadata": {
        "id": "BpL_e8FZ_vWP"
      },
      "execution_count": null,
      "outputs": []
    },
    {
      "cell_type": "code",
      "source": [
        "cerebro = bt.Cerebro()\n",
        "cerebro.adddata(data)\n",
        "cerebro.addstrategy(Cruzamento_Preco_MMA)\n",
        "\n",
        "## Estabelecer parâmetros do broker\n",
        "cerebro.broker.setcash(10000000)\n",
        "cerebro.addsizer(bt.sizers.SizerFix, stake=1)\n",
        "\n",
        "print('Valor inicial da carteira: %.2f' % cerebro.broker.getvalue())\n",
        "cerebro.run()\n",
        "print('Valor final da carteira: %.2f' % cerebro.broker.getvalue())"
      ],
      "metadata": {
        "id": "jXN8eznI_34F",
        "colab": {
          "base_uri": "https://localhost:8080/"
        },
        "outputId": "30f6340e-8ebc-405c-8818-5af5a922361b"
      },
      "execution_count": null,
      "outputs": [
        {
          "output_type": "stream",
          "name": "stdout",
          "text": [
            "Valor inicial da carteira: 10000000.00\n",
            "2017-02-08: || MMMA 9p = R$ 10.38 || Close = R$ 10.41 || Posição crossover = 1 || (BuyAtMarket)\n",
            "2017-02-22: || MMMA 9p = R$ 10.88 || Close = R$ 10.82 || Posição crossover = -1 || (SellAtMarket)\n",
            "2017-03-27: || MMMA 9p = R$ 9.35 || Close = R$ 9.49 || Posição crossover = 1 || (BuyAtMarket)\n",
            "2017-04-12: || MMMA 9p = R$ 10.12 || Close = R$ 10.10 || Posição crossover = -1 || (SellAtMarket)\n",
            "2017-04-25: || MMMA 9p = R$ 9.77 || Close = R$ 9.88 || Posição crossover = 1 || (BuyAtMarket)\n",
            "2017-04-26: || MMMA 9p = R$ 9.72 || Close = R$ 9.65 || Posição crossover = -1 || (SellAtMarket)\n",
            "2017-05-02: || MMMA 9p = R$ 9.62 || Close = R$ 9.64 || Posição crossover = 1 || (BuyAtMarket)\n",
            "2017-05-04: || MMMA 9p = R$ 9.63 || Close = R$ 9.37 || Posição crossover = -1 || (SellAtMarket)\n",
            "2017-05-05: || MMMA 9p = R$ 9.65 || Close = R$ 9.79 || Posição crossover = 1 || (BuyAtMarket)\n",
            "2017-05-18: || MMMA 9p = R$ 10.21 || Close = R$ 9.06 || Posição crossover = -1 || (SellAtMarket)\n",
            "2017-06-26: || MMMA 9p = R$ 8.39 || Close = R$ 8.46 || Posição crossover = 1 || (BuyAtMarket)\n",
            "2017-07-05: || MMMA 9p = R$ 8.43 || Close = R$ 8.42 || Posição crossover = -1 || (SellAtMarket)\n",
            "2017-07-11: || MMMA 9p = R$ 8.42 || Close = R$ 8.50 || Posição crossover = 1 || (BuyAtMarket)\n",
            "2017-07-21: || MMMA 9p = R$ 8.89 || Close = R$ 8.75 || Posição crossover = -1 || (SellAtMarket)\n",
            "2017-07-25: || MMMA 9p = R$ 8.95 || Close = R$ 9.11 || Posição crossover = 1 || (BuyAtMarket)\n",
            "2017-07-27: || MMMA 9p = R$ 8.96 || Close = R$ 8.96 || Posição crossover = -1 || (SellAtMarket)\n",
            "2017-07-28: || MMMA 9p = R$ 8.98 || Close = R$ 9.05 || Posição crossover = 1 || (BuyAtMarket)\n",
            "2017-08-10: || MMMA 9p = R$ 9.22 || Close = R$ 9.09 || Posição crossover = -1 || (SellAtMarket)\n",
            "2017-08-18: || MMMA 9p = R$ 9.13 || Close = R$ 9.37 || Posição crossover = 1 || (BuyAtMarket)\n",
            "2017-08-30: || MMMA 9p = R$ 9.45 || Close = R$ 9.27 || Posição crossover = -1 || (SellAtMarket)\n",
            "2017-09-01: || MMMA 9p = R$ 9.50 || Close = R$ 9.66 || Posição crossover = 1 || (BuyAtMarket)\n",
            "2017-09-27: || MMMA 9p = R$ 10.66 || Close = R$ 10.55 || Posição crossover = -1 || (SellAtMarket)\n",
            "2017-10-03: || MMMA 9p = R$ 10.73 || Close = R$ 11.01 || Posição crossover = 1 || (BuyAtMarket)\n",
            "2017-11-07: || MMMA 9p = R$ 11.64 || Close = R$ 11.37 || Posição crossover = -1 || (SellAtMarket)\n",
            "2017-11-08: || MMMA 9p = R$ 11.66 || Close = R$ 11.68 || Posição crossover = 1 || (BuyAtMarket)\n",
            "2017-11-09: || MMMA 9p = R$ 11.63 || Close = R$ 11.52 || Posição crossover = -1 || (SellAtMarket)\n",
            "2017-11-22: || MMMA 9p = R$ 11.02 || Close = R$ 11.10 || Posição crossover = 1 || (BuyAtMarket)\n",
            "2017-11-27: || MMMA 9p = R$ 10.98 || Close = R$ 10.94 || Posição crossover = -1 || (SellAtMarket)\n",
            "2017-12-12: || MMMA 9p = R$ 10.63 || Close = R$ 10.68 || Posição crossover = 1 || (BuyAtMarket)\n",
            "2017-12-13: || MMMA 9p = R$ 10.61 || Close = R$ 10.46 || Posição crossover = -1 || (SellAtMarket)\n",
            "2017-12-20: || MMMA 9p = R$ 10.49 || Close = R$ 10.50 || Posição crossover = 1 || (BuyAtMarket)\n",
            "2018-02-05: || MMMA 9p = R$ 13.57 || Close = R$ 13.12 || Posição crossover = -1 || (SellAtMarket)\n",
            "2018-02-06: || MMMA 9p = R$ 13.62 || Close = R$ 13.78 || Posição crossover = 1 || (BuyAtMarket)\n",
            "2018-02-07: || MMMA 9p = R$ 13.63 || Close = R$ 13.40 || Posição crossover = -1 || (SellAtMarket)\n",
            "2018-02-16: || MMMA 9p = R$ 13.35 || Close = R$ 13.39 || Posição crossover = 1 || (BuyAtMarket)\n",
            "2018-03-15: || MMMA 9p = R$ 15.16 || Close = R$ 14.69 || Posição crossover = -1 || (SellAtMarket)\n",
            "2018-03-21: || MMMA 9p = R$ 15.02 || Close = R$ 15.20 || Posição crossover = 1 || (BuyAtMarket)\n",
            "2018-03-27: || MMMA 9p = R$ 14.84 || Close = R$ 14.78 || Posição crossover = -1 || (SellAtMarket)\n",
            "2018-04-06: || MMMA 9p = R$ 14.59 || Close = R$ 14.67 || Posição crossover = 1 || (BuyAtMarket)\n",
            "2018-04-09: || MMMA 9p = R$ 14.47 || Close = R$ 14.15 || Posição crossover = -1 || (SellAtMarket)\n",
            "2018-04-10: || MMMA 9p = R$ 14.47 || Close = R$ 14.75 || Posição crossover = 1 || (BuyAtMarket)\n",
            "2018-04-16: || MMMA 9p = R$ 14.55 || Close = R$ 14.21 || Posição crossover = -1 || (SellAtMarket)\n",
            "2018-04-18: || MMMA 9p = R$ 14.65 || Close = R$ 15.03 || Posição crossover = 1 || (BuyAtMarket)\n",
            "2018-04-25: || MMMA 9p = R$ 15.00 || Close = R$ 14.98 || Posição crossover = -1 || (SellAtMarket)\n",
            "2018-04-26: || MMMA 9p = R$ 15.11 || Close = R$ 15.60 || Posição crossover = 1 || (BuyAtMarket)\n",
            "2018-05-03: || MMMA 9p = R$ 15.49 || Close = R$ 15.47 || Posição crossover = -1 || (SellAtMarket)\n",
            "2018-05-07: || MMMA 9p = R$ 15.50 || Close = R$ 15.61 || Posição crossover = 1 || (BuyAtMarket)\n",
            "2018-05-18: || MMMA 9p = R$ 17.68 || Close = R$ 17.68 || Posição crossover = -1 || (SellAtMarket)\n",
            "2018-06-19: || MMMA 9p = R$ 10.52 || Close = R$ 10.65 || Posição crossover = 1 || (BuyAtMarket)\n",
            "2018-06-21: || MMMA 9p = R$ 10.54 || Close = R$ 10.43 || Posição crossover = -1 || (SellAtMarket)\n",
            "2018-06-25: || MMMA 9p = R$ 10.53 || Close = R$ 10.84 || Posição crossover = 1 || (BuyAtMarket)\n",
            "2018-07-11: || MMMA 9p = R$ 12.07 || Close = R$ 12.02 || Posição crossover = -1 || (SellAtMarket)\n",
            "2018-07-12: || MMMA 9p = R$ 12.18 || Close = R$ 12.40 || Posição crossover = 1 || (BuyAtMarket)\n",
            "2018-08-08: || MMMA 9p = R$ 14.03 || Close = R$ 13.91 || Posição crossover = -1 || (SellAtMarket)\n",
            "2018-08-27: || MMMA 9p = R$ 12.76 || Close = R$ 12.95 || Posição crossover = 1 || (BuyAtMarket)\n",
            "2018-08-28: || MMMA 9p = R$ 12.70 || Close = R$ 12.70 || Posição crossover = -1 || (SellAtMarket)\n",
            "2018-08-29: || MMMA 9p = R$ 12.73 || Close = R$ 13.36 || Posição crossover = 1 || (BuyAtMarket)\n",
            "2018-09-04: || MMMA 9p = R$ 12.95 || Close = R$ 12.91 || Posição crossover = -1 || (SellAtMarket)\n",
            "2018-09-06: || MMMA 9p = R$ 13.06 || Close = R$ 13.15 || Posição crossover = 1 || (BuyAtMarket)\n",
            "2018-09-11: || MMMA 9p = R$ 13.12 || Close = R$ 12.81 || Posição crossover = -1 || (SellAtMarket)\n",
            "2018-09-12: || MMMA 9p = R$ 13.09 || Close = R$ 13.12 || Posição crossover = 1 || (BuyAtMarket)\n",
            "2018-09-13: || MMMA 9p = R$ 13.08 || Close = R$ 12.95 || Posição crossover = -1 || (SellAtMarket)\n",
            "2018-09-17: || MMMA 9p = R$ 13.08 || Close = R$ 13.43 || Posição crossover = 1 || (BuyAtMarket)\n",
            "2018-10-18: || MMMA 9p = R$ 17.95 || Close = R$ 17.79 || Posição crossover = -1 || (SellAtMarket)\n",
            "2018-10-22: || MMMA 9p = R$ 18.10 || Close = R$ 18.37 || Posição crossover = 1 || (BuyAtMarket)\n",
            "2018-10-24: || MMMA 9p = R$ 18.02 || Close = R$ 17.78 || Posição crossover = -1 || (SellAtMarket)\n",
            "2018-10-25: || MMMA 9p = R$ 18.10 || Close = R$ 18.22 || Posição crossover = 1 || (BuyAtMarket)\n",
            "2018-11-07: || MMMA 9p = R$ 18.84 || Close = R$ 18.21 || Posição crossover = -1 || (SellAtMarket)\n",
            "2018-11-19: || MMMA 9p = R$ 17.75 || Close = R$ 18.00 || Posição crossover = 1 || (BuyAtMarket)\n",
            "2018-11-21: || MMMA 9p = R$ 17.60 || Close = R$ 17.43 || Posição crossover = -1 || (SellAtMarket)\n",
            "2018-11-27: || MMMA 9p = R$ 17.39 || Close = R$ 17.75 || Posição crossover = 1 || (BuyAtMarket)\n",
            "2018-12-06: || MMMA 9p = R$ 17.55 || Close = R$ 17.09 || Posição crossover = -1 || (SellAtMarket)\n",
            "2018-12-27: || MMMA 9p = R$ 15.56 || Close = R$ 15.58 || Posição crossover = 1 || (BuyAtMarket)\n",
            "2019-01-14: || MMMA 9p = R$ 17.90 || Close = R$ 17.87 || Posição crossover = -1 || (SellAtMarket)\n",
            "2019-01-17: || MMMA 9p = R$ 18.01 || Close = R$ 18.09 || Posição crossover = 1 || (BuyAtMarket)\n",
            "2019-01-28: || MMMA 9p = R$ 18.10 || Close = R$ 17.81 || Posição crossover = -1 || (SellAtMarket)\n",
            "2019-01-29: || MMMA 9p = R$ 18.15 || Close = R$ 18.24 || Posição crossover = 1 || (BuyAtMarket)\n",
            "2019-02-06: || MMMA 9p = R$ 18.40 || Close = R$ 18.33 || Posição crossover = -1 || (SellAtMarket)\n",
            "2019-02-12: || MMMA 9p = R$ 18.36 || Close = R$ 18.49 || Posição crossover = 1 || (BuyAtMarket)\n",
            "2019-02-25: || MMMA 9p = R$ 19.35 || Close = R$ 19.20 || Posição crossover = -1 || (SellAtMarket)\n",
            "2019-02-27: || MMMA 9p = R$ 19.41 || Close = R$ 19.47 || Posição crossover = 1 || (BuyAtMarket)\n",
            "2019-03-01: || MMMA 9p = R$ 19.42 || Close = R$ 19.20 || Posição crossover = -1 || (SellAtMarket)\n",
            "2019-03-11: || MMMA 9p = R$ 19.34 || Close = R$ 19.95 || Posição crossover = 1 || (BuyAtMarket)\n",
            "2019-03-22: || MMMA 9p = R$ 20.33 || Close = R$ 19.41 || Posição crossover = -1 || (SellAtMarket)\n",
            "2019-03-26: || MMMA 9p = R$ 20.36 || Close = R$ 20.59 || Posição crossover = 1 || (BuyAtMarket)\n",
            "2019-03-27: || MMMA 9p = R$ 20.29 || Close = R$ 19.66 || Posição crossover = -1 || (SellAtMarket)\n",
            "2019-04-01: || MMMA 9p = R$ 20.13 || Close = R$ 20.13 || Posição crossover = 1 || (BuyAtMarket)\n",
            "2019-04-03: || MMMA 9p = R$ 19.99 || Close = R$ 19.80 || Posição crossover = -1 || (SellAtMarket)\n",
            "2019-04-04: || MMMA 9p = R$ 20.11 || Close = R$ 20.47 || Posição crossover = 1 || (BuyAtMarket)\n",
            "2019-04-11: || MMMA 9p = R$ 20.47 || Close = R$ 20.13 || Posição crossover = -1 || (SellAtMarket)\n",
            "2019-04-18: || MMMA 9p = R$ 19.81 || Close = R$ 19.84 || Posição crossover = 1 || (BuyAtMarket)\n",
            "2019-04-30: || MMMA 9p = R$ 19.71 || Close = R$ 19.51 || Posição crossover = -1 || (SellAtMarket)\n",
            "2019-05-08: || MMMA 9p = R$ 19.47 || Close = R$ 19.69 || Posição crossover = 1 || (BuyAtMarket)\n",
            "2019-05-09: || MMMA 9p = R$ 19.40 || Close = R$ 19.30 || Posição crossover = -1 || (SellAtMarket)\n",
            "2019-05-21: || MMMA 9p = R$ 18.65 || Close = R$ 19.06 || Posição crossover = 1 || (BuyAtMarket)\n",
            "2019-05-30: || MMMA 9p = R$ 18.92 || Close = R$ 18.89 || Posição crossover = -1 || (SellAtMarket)\n",
            "2019-06-04: || MMMA 9p = R$ 18.89 || Close = R$ 18.92 || Posição crossover = 1 || (BuyAtMarket)\n",
            "2019-06-05: || MMMA 9p = R$ 18.89 || Close = R$ 18.68 || Posição crossover = -1 || (SellAtMarket)\n",
            "2019-06-06: || MMMA 9p = R$ 18.90 || Close = R$ 18.98 || Posição crossover = 1 || (BuyAtMarket)\n",
            "2019-06-27: || MMMA 9p = R$ 19.91 || Close = R$ 19.67 || Posição crossover = -1 || (SellAtMarket)\n",
            "2019-07-05: || MMMA 9p = R$ 19.73 || Close = R$ 19.79 || Posição crossover = 1 || (BuyAtMarket)\n",
            "2019-07-16: || MMMA 9p = R$ 20.11 || Close = R$ 20.10 || Posição crossover = -1 || (SellAtMarket)\n",
            "2019-08-08: || MMMA 9p = R$ 18.85 || Close = R$ 19.03 || Posição crossover = 1 || (BuyAtMarket)\n",
            "2019-08-12: || MMMA 9p = R$ 18.79 || Close = R$ 18.53 || Posição crossover = -1 || (SellAtMarket)\n",
            "2019-08-21: || MMMA 9p = R$ 18.11 || Close = R$ 18.53 || Posição crossover = 1 || (BuyAtMarket)\n",
            "2019-08-23: || MMMA 9p = R$ 17.94 || Close = R$ 17.67 || Posição crossover = -1 || (SellAtMarket)\n",
            "2019-08-28: || MMMA 9p = R$ 17.78 || Close = R$ 17.90 || Posição crossover = 1 || (BuyAtMarket)\n",
            "2019-09-20: || MMMA 9p = R$ 19.83 || Close = R$ 19.65 || Posição crossover = -1 || (SellAtMarket)\n",
            "2019-09-23: || MMMA 9p = R$ 19.86 || Close = R$ 20.00 || Posição crossover = 1 || (BuyAtMarket)\n",
            "2019-09-24: || MMMA 9p = R$ 19.89 || Close = R$ 19.85 || Posição crossover = -1 || (SellAtMarket)\n",
            "2019-09-26: || MMMA 9p = R$ 19.98 || Close = R$ 20.16 || Posição crossover = 1 || (BuyAtMarket)\n",
            "2019-10-02: || MMMA 9p = R$ 19.92 || Close = R$ 19.45 || Posição crossover = -1 || (SellAtMarket)\n",
            "2019-10-10: || MMMA 9p = R$ 19.45 || Close = R$ 19.46 || Posição crossover = 1 || (BuyAtMarket)\n",
            "2019-11-05: || MMMA 9p = R$ 21.67 || Close = R$ 21.58 || Posição crossover = -1 || (SellAtMarket)\n",
            "2019-11-07: || MMMA 9p = R$ 21.91 || Close = R$ 22.49 || Posição crossover = 1 || (BuyAtMarket)\n",
            "2019-11-08: || MMMA 9p = R$ 21.95 || Close = R$ 21.85 || Posição crossover = -1 || (SellAtMarket)\n",
            "2019-11-11: || MMMA 9p = R$ 22.00 || Close = R$ 22.17 || Posição crossover = 1 || (BuyAtMarket)\n",
            "2019-11-12: || MMMA 9p = R$ 22.01 || Close = R$ 22.00 || Posição crossover = -1 || (SellAtMarket)\n",
            "2019-11-21: || MMMA 9p = R$ 21.80 || Close = R$ 21.87 || Posição crossover = 1 || (BuyAtMarket)\n",
            "2019-11-26: || MMMA 9p = R$ 21.64 || Close = R$ 21.39 || Posição crossover = -1 || (SellAtMarket)\n",
            "2019-11-28: || MMMA 9p = R$ 21.56 || Close = R$ 21.64 || Posição crossover = 1 || (BuyAtMarket)\n",
            "2019-11-29: || MMMA 9p = R$ 21.54 || Close = R$ 21.36 || Posição crossover = -1 || (SellAtMarket)\n",
            "2019-12-04: || MMMA 9p = R$ 21.54 || Close = R$ 21.73 || Posição crossover = 1 || (BuyAtMarket)\n",
            "2019-12-13: || MMMA 9p = R$ 22.07 || Close = R$ 21.97 || Posição crossover = -1 || (SellAtMarket)\n",
            "2019-12-18: || MMMA 9p = R$ 22.16 || Close = R$ 22.38 || Posição crossover = 1 || (BuyAtMarket)\n",
            "2019-12-20: || MMMA 9p = R$ 22.18 || Close = R$ 22.17 || Posição crossover = -1 || (SellAtMarket)\n",
            "2019-12-23: || MMMA 9p = R$ 22.19 || Close = R$ 22.35 || Posição crossover = 1 || (BuyAtMarket)\n",
            "2020-01-09: || MMMA 9p = R$ 22.68 || Close = R$ 22.58 || Posição crossover = -1 || (SellAtMarket)\n",
            "2020-02-06: || MMMA 9p = R$ 21.25 || Close = R$ 21.68 || Posição crossover = 1 || (BuyAtMarket)\n",
            "2020-02-21: || MMMA 9p = R$ 22.08 || Close = R$ 21.65 || Posição crossover = -1 || (SellAtMarket)\n",
            "2020-03-24: || MMMA 9p = R$ 9.44 || Close = R$ 9.84 || Posição crossover = 1 || (BuyAtMarket)\n",
            "2020-04-16: || MMMA 9p = R$ 12.17 || Close = R$ 11.68 || Posição crossover = -1 || (SellAtMarket)\n",
            "2020-04-22: || MMMA 9p = R$ 12.28 || Close = R$ 12.44 || Posição crossover = 1 || (BuyAtMarket)\n",
            "2020-04-24: || MMMA 9p = R$ 12.17 || Close = R$ 11.85 || Posição crossover = -1 || (SellAtMarket)\n",
            "2020-04-27: || MMMA 9p = R$ 12.13 || Close = R$ 12.22 || Posição crossover = 1 || (BuyAtMarket)\n",
            "2020-05-13: || MMMA 9p = R$ 13.25 || Close = R$ 13.07 || Posição crossover = -1 || (SellAtMarket)\n",
            "2020-05-18: || MMMA 9p = R$ 13.22 || Close = R$ 13.77 || Posição crossover = 1 || (BuyAtMarket)\n",
            "2020-06-10: || MMMA 9p = R$ 15.91 || Close = R$ 15.90 || Posição crossover = -1 || (SellAtMarket)\n",
            "2020-06-18: || MMMA 9p = R$ 15.97 || Close = R$ 16.05 || Posição crossover = 1 || (BuyAtMarket)\n",
            "2020-06-22: || MMMA 9p = R$ 15.79 || Close = R$ 15.56 || Posição crossover = -1 || (SellAtMarket)\n",
            "2020-06-23: || MMMA 9p = R$ 15.78 || Close = R$ 16.08 || Posição crossover = 1 || (BuyAtMarket)\n",
            "2020-06-24: || MMMA 9p = R$ 15.75 || Close = R$ 15.60 || Posição crossover = -1 || (SellAtMarket)\n",
            "2020-06-25: || MMMA 9p = R$ 15.82 || Close = R$ 15.95 || Posição crossover = 1 || (BuyAtMarket)\n",
            "2020-06-26: || MMMA 9p = R$ 15.83 || Close = R$ 15.48 || Posição crossover = -1 || (SellAtMarket)\n",
            "2020-06-29: || MMMA 9p = R$ 15.86 || Close = R$ 16.09 || Posição crossover = 1 || (BuyAtMarket)\n",
            "2020-07-13: || MMMA 9p = R$ 16.51 || Close = R$ 16.46 || Posição crossover = -1 || (SellAtMarket)\n",
            "2020-07-14: || MMMA 9p = R$ 16.60 || Close = R$ 17.01 || Posição crossover = 1 || (BuyAtMarket)\n",
            "2020-07-23: || MMMA 9p = R$ 16.97 || Close = R$ 16.77 || Posição crossover = -1 || (SellAtMarket)\n",
            "2020-07-27: || MMMA 9p = R$ 17.04 || Close = R$ 17.24 || Posição crossover = 1 || (BuyAtMarket)\n",
            "2020-07-28: || MMMA 9p = R$ 17.00 || Close = R$ 16.94 || Posição crossover = -1 || (SellAtMarket)\n",
            "2020-07-29: || MMMA 9p = R$ 17.04 || Close = R$ 17.21 || Posição crossover = 1 || (BuyAtMarket)\n",
            "2020-07-30: || MMMA 9p = R$ 17.04 || Close = R$ 16.95 || Posição crossover = -1 || (SellAtMarket)\n",
            "2020-08-05: || MMMA 9p = R$ 16.81 || Close = R$ 17.22 || Posição crossover = 1 || (BuyAtMarket)\n",
            "2020-08-13: || MMMA 9p = R$ 16.97 || Close = R$ 16.97 || Posição crossover = -1 || (SellAtMarket)\n",
            "2020-08-18: || MMMA 9p = R$ 17.10 || Close = R$ 17.10 || Posição crossover = 1 || (BuyAtMarket)\n",
            "2020-08-19: || MMMA 9p = R$ 17.07 || Close = R$ 17.01 || Posição crossover = -1 || (SellAtMarket)\n",
            "2020-08-24: || MMMA 9p = R$ 16.99 || Close = R$ 17.07 || Posição crossover = 1 || (BuyAtMarket)\n",
            "2020-08-26: || MMMA 9p = R$ 16.88 || Close = R$ 16.51 || Posição crossover = -1 || (SellAtMarket)\n",
            "2020-09-01: || MMMA 9p = R$ 16.74 || Close = R$ 16.99 || Posição crossover = 1 || (BuyAtMarket)\n",
            "2020-09-08: || MMMA 9p = R$ 16.72 || Close = R$ 16.54 || Posição crossover = -1 || (SellAtMarket)\n",
            "2020-09-09: || MMMA 9p = R$ 16.76 || Close = R$ 16.89 || Posição crossover = 1 || (BuyAtMarket)\n",
            "2020-09-10: || MMMA 9p = R$ 16.76 || Close = R$ 16.43 || Posição crossover = -1 || (SellAtMarket)\n",
            "2020-09-17: || MMMA 9p = R$ 16.44 || Close = R$ 16.46 || Posição crossover = 1 || (BuyAtMarket)\n",
            "2020-09-18: || MMMA 9p = R$ 16.33 || Close = R$ 16.09 || Posição crossover = -1 || (SellAtMarket)\n",
            "2020-10-05: || MMMA 9p = R$ 14.71 || Close = R$ 14.88 || Posição crossover = 1 || (BuyAtMarket)\n",
            "2020-10-15: || MMMA 9p = R$ 14.77 || Close = R$ 14.67 || Posição crossover = -1 || (SellAtMarket)\n",
            "2020-10-20: || MMMA 9p = R$ 14.77 || Close = R$ 14.99 || Posição crossover = 1 || (BuyAtMarket)\n",
            "2020-10-27: || MMMA 9p = R$ 14.90 || Close = R$ 14.77 || Posição crossover = -1 || (SellAtMarket)\n",
            "2020-11-05: || MMMA 9p = R$ 14.60 || Close = R$ 14.78 || Posição crossover = 1 || (BuyAtMarket)\n",
            "2020-11-30: || MMMA 9p = R$ 18.56 || Close = R$ 18.50 || Posição crossover = -1 || (SellAtMarket)\n",
            "2020-12-01: || MMMA 9p = R$ 18.72 || Close = R$ 19.02 || Posição crossover = 1 || (BuyAtMarket)\n",
            "2020-12-21: || MMMA 9p = R$ 20.58 || Close = R$ 20.07 || Posição crossover = -1 || (SellAtMarket)\n",
            "2020-12-23: || MMMA 9p = R$ 20.62 || Close = R$ 20.77 || Posição crossover = 1 || (BuyAtMarket)\n",
            "2021-01-13: || MMMA 9p = R$ 22.30 || Close = R$ 21.66 || Posição crossover = -1 || (SellAtMarket)\n",
            "2021-02-02: || MMMA 9p = R$ 20.46 || Close = R$ 21.29 || Posição crossover = 1 || (BuyAtMarket)\n",
            "2021-02-09: || MMMA 9p = R$ 20.88 || Close = R$ 20.46 || Posição crossover = -1 || (SellAtMarket)\n",
            "2021-02-12: || MMMA 9p = R$ 21.07 || Close = R$ 21.13 || Posição crossover = 1 || (BuyAtMarket)\n",
            "2021-02-19: || MMMA 9p = R$ 21.05 || Close = R$ 20.31 || Posição crossover = -1 || (SellAtMarket)\n",
            "2021-03-10: || MMMA 9p = R$ 16.27 || Close = R$ 16.60 || Posição crossover = 1 || (BuyAtMarket)\n",
            "2021-03-23: || MMMA 9p = R$ 17.42 || Close = R$ 16.94 || Posição crossover = -1 || (SellAtMarket)\n",
            "2021-03-26: || MMMA 9p = R$ 17.37 || Close = R$ 17.43 || Posição crossover = 1 || (BuyAtMarket)\n",
            "2021-04-08: || MMMA 9p = R$ 17.74 || Close = R$ 17.61 || Posição crossover = -1 || (SellAtMarket)\n",
            "2021-04-13: || MMMA 9p = R$ 17.77 || Close = R$ 17.81 || Posição crossover = 1 || (BuyAtMarket)\n",
            "2021-04-15: || MMMA 9p = R$ 17.79 || Close = R$ 17.73 || Posição crossover = -1 || (SellAtMarket)\n",
            "2021-04-19: || MMMA 9p = R$ 17.85 || Close = R$ 18.65 || Posição crossover = 1 || (BuyAtMarket)\n",
            "2021-04-27: || MMMA 9p = R$ 18.09 || Close = R$ 17.74 || Posição crossover = -1 || (SellAtMarket)\n",
            "2021-04-28: || MMMA 9p = R$ 18.12 || Close = R$ 18.39 || Posição crossover = 1 || (BuyAtMarket)\n",
            "2021-04-29: || MMMA 9p = R$ 18.17 || Close = R$ 18.14 || Posição crossover = -1 || (SellAtMarket)\n",
            "2021-05-05: || MMMA 9p = R$ 18.08 || Close = R$ 18.30 || Posição crossover = 1 || (BuyAtMarket)\n",
            "2021-05-06: || MMMA 9p = R$ 18.07 || Close = R$ 18.05 || Posição crossover = -1 || (SellAtMarket)\n",
            "2021-05-07: || MMMA 9p = R$ 18.12 || Close = R$ 18.72 || Posição crossover = 1 || (BuyAtMarket)\n",
            "2021-05-25: || MMMA 9p = R$ 20.01 || Close = R$ 19.84 || Posição crossover = -1 || (SellAtMarket)\n",
            "2021-05-28: || MMMA 9p = R$ 20.10 || Close = R$ 20.73 || Posição crossover = 1 || (BuyAtMarket)\n",
            "2021-06-17: || MMMA 9p = R$ 22.01 || Close = R$ 21.60 || Posição crossover = -1 || (SellAtMarket)\n",
            "2021-06-21: || MMMA 9p = R$ 22.03 || Close = R$ 22.23 || Posição crossover = 1 || (BuyAtMarket)\n",
            "Valor final da carteira: 10000008.52\n"
          ]
        }
      ]
    },
    {
      "cell_type": "markdown",
      "source": [
        "###5.5. Estratégia Híbrida + Indicadores\n",
        "\n",
        "Nesta seção aprenderemos a mesclar dois indicadores na mesma estratégia e entender quais as ferramentas de análise o Backtrader nos oferece"
      ],
      "metadata": {
        "id": "VubwrCSG_8np"
      }
    },
    {
      "cell_type": "code",
      "source": [
        "import backtrader.analyzers as btanalyzers\n",
        "\n",
        "class rsi_media_movel(bt.Strategy):\n",
        "\n",
        "  def __init__(self):\n",
        "\n",
        "    self.rsi = bt.indicators.RSI(self.data.close, period=21)\n",
        "    self.mm_rapida = bt.indicators.SMA(self.data.close, period=9)\n",
        "    self.mm_lenta = bt.indicators.SMA(self.data.close, period=26)\n",
        "    self.crossup = bt.ind.CrossUp(self.mm_rapida, self.mm_lenta)\n",
        "\n",
        "\n",
        "\n",
        "\n",
        "  def next(self):\n",
        "    if not self.position: #se não tiver alguma ordem aberta - condição de compra\n",
        "      if self.rsi > 30 and self.crossup == 1:\n",
        "        self.buy(size=100)\n",
        "\n",
        "    else: #caso a ordem já estiver aberta - condição de venda\n",
        "      if self.rsi < 70:\n",
        "        self.sell(size=100)\n",
        "  \n",
        "caixa_inicial = 30000 #definimos o montante a inicial do portfólio\n",
        "\n",
        "cerebro = bt.Cerebro()\n",
        "cerebro.addstrategy(rsi_media_movel)\n",
        "cerebro.adddata(data2)\n",
        "cerebro.broker.setcommission(commission=0.003) #setamos a comissão da exchange\n",
        "cerebro.broker.setcash(caixa_inicial)\n",
        "cerebro.addanalyzer(btanalyzers.PeriodStats, _name='stats', timeframe=bt.TimeFrame.Days)\n",
        "cerebro.addanalyzer(btanalyzers.SharpeRatio_A, _name='sharpe', riskfreerate=0.12)\n",
        "cerebro.addanalyzer(btanalyzers.TradeAnalyzer, _name='TradeAnalyzer')\n",
        "cerebro.addanalyzer(btanalyzers.DrawDown, _name='drawdown')\n",
        "thestrats = cerebro.run()\n",
        "thestrat = thestrats[0]\n",
        "print('Estatísticas:', thestrat.analyzers.stats.get_analysis())\n",
        "print('Final Portfolio Value: %.2f' % cerebro.broker.getvalue())\n",
        "print('Sharpe Ratio:', thestrat.analyzers.sharpe.get_analysis())\n",
        "print('TradeAnalyzer:', thestrat.analyzers.TradeAnalyzer.get_analysis())\n",
        "print('Drawdown:', thestrat.analyzers.drawdown.get_analysis())"
      ],
      "metadata": {
        "id": "n9H0g3mHABYX",
        "colab": {
          "base_uri": "https://localhost:8080/"
        },
        "outputId": "45825387-c8bd-432c-92ee-85d24e06594f"
      },
      "execution_count": null,
      "outputs": [
        {
          "output_type": "stream",
          "name": "stdout",
          "text": [
            "Estatísticas: OrderedDict([('average', -1.1676343080455536e-05), ('stddev', 0.0003730431754747359), ('positive', 18), ('negative', 22), ('nochange', 1078), ('best', 0.002149856069518563), ('worst', -0.011399038345555668)])\n",
            "Final Portfolio Value: 29608.60\n",
            "Sharpe Ratio: OrderedDict([('sharperatio', -18.16177288042809)])\n",
            "TradeAnalyzer: AutoOrderedDict([('total', AutoOrderedDict([('total', 20), ('open', 0), ('closed', 20)])), ('streak', AutoOrderedDict([('won', AutoOrderedDict([('current', 0), ('longest', 5)])), ('lost', AutoOrderedDict([('current', 5), ('longest', 5)]))])), ('pnl', AutoOrderedDict([('gross', AutoOrderedDict([('total', -204.10992841544322), ('average', -10.20549642077216)])), ('net', AutoOrderedDict([('total', -391.3998018635581), ('average', -19.569990093177903)]))])), ('won', AutoOrderedDict([('total', 8), ('pnl', AutoOrderedDict([('total', 238.15147614285), ('average', 29.76893451785625), ('max', 76.80150520661837)]))])), ('lost', AutoOrderedDict([('total', 12), ('pnl', AutoOrderedDict([('total', -629.5512780064081), ('average', -52.46260650053401), ('max', -399.8960466011842)]))])), ('long', AutoOrderedDict([('total', 20), ('pnl', AutoOrderedDict([('total', -391.3998018635581), ('average', -19.569990093177903), ('won', AutoOrderedDict([('total', 238.15147614285), ('average', 29.76893451785625), ('max', 76.80150520661837)])), ('lost', AutoOrderedDict([('total', -629.5512780064081), ('average', -52.46260650053401), ('max', -399.8960466011842)]))])), ('won', 8), ('lost', 12)])), ('short', AutoOrderedDict([('total', 0), ('pnl', AutoOrderedDict([('total', 0.0), ('average', 0.0), ('won', AutoOrderedDict([('total', 0.0), ('average', 0.0), ('max', 0.0)])), ('lost', AutoOrderedDict([('total', 0.0), ('average', 0.0), ('max', 0.0)]))])), ('won', 0), ('lost', 0)])), ('len', AutoOrderedDict([('total', 20), ('average', 1.0), ('max', 1), ('min', 1), ('won', AutoOrderedDict([('total', 8), ('average', 1.0), ('max', 1), ('min', 1)])), ('lost', AutoOrderedDict([('total', 12), ('average', 1.0), ('max', 1), ('min', 1)])), ('long', AutoOrderedDict([('total', 20), ('average', 1.0), ('max', 1), ('min', 1), ('won', AutoOrderedDict([('total', 8), ('average', 1.0), ('max', 1), ('min', 1)])), ('lost', AutoOrderedDict([('total', 12), ('average', 1.0), ('max', 1), ('min', 1)]))])), ('short', AutoOrderedDict([('total', 0), ('average', 0.0), ('max', 0), ('min', 9223372036854775807), ('won', AutoOrderedDict([('total', 0), ('average', 0.0), ('max', 0), ('min', 9223372036854775807)])), ('lost', AutoOrderedDict([('total', 0), ('average', 0.0), ('max', 0), ('min', 9223372036854775807)]))]))]))])\n",
            "Drawdown: AutoOrderedDict([('len', 215), ('drawdown', 1.8884809525984427), ('moneydown', 569.9155211353755), ('max', AutoOrderedDict([('len', 345), ('drawdown', 1.8884809525984427), ('moneydown', 569.9155211353755)]))])\n"
          ]
        }
      ]
    },
    {
      "cell_type": "code",
      "source": [
        "caixa_inicial = 30000\n",
        "\n",
        "cerebro = bt.Cerebro()\n",
        "cerebro.addstrategy(rsi_media_movel)\n",
        "cerebro.adddata(data)\n",
        "cerebro.broker.setcommission(commission=0.003) #taxa da exchange\n",
        "cerebro.broker.setcash(caixa_inicial)\n",
        "cerebro.addanalyzer(btanalyzers.PeriodStats, _name='stats')\n",
        "cerebro.addanalyzer(btanalyzers.SharpeRatio_A, _name='sharpe', riskfreerate=0.1275)\n",
        "cerebro.addanalyzer(btanalyzers.DrawDown, _name='drawdown')\n",
        "cerebro.addanalyzer(btanalyzers.Returns, _name='returns')\n",
        "thestrats = cerebro.run()\n",
        "thestrat = thestrats[0]\n",
        "print('Returns:', thestrat.analyzers.returns.get_analysis())\n",
        "print('Estatísticas:', thestrat.analyzers.stats.get_analysis())\n",
        "print('Sharpe Ratio:', thestrat.analyzers.sharpe.get_analysis())\n",
        "print('Drawdown:', thestrat.analyzers.drawdown.get_analysis())\n",
        "print('Valor Final Portfolio: %.2f' % cerebro.broker.getvalue())"
      ],
      "metadata": {
        "id": "wxYX7Zg0Mfwa"
      },
      "execution_count": null,
      "outputs": []
    },
    {
      "cell_type": "markdown",
      "source": [
        "##5.6. In and Out-of-Sample\n",
        "\n",
        "Nesse momento iremos testar a estratégia em dois períodos diferentes para avaliar se performance se mantem estável"
      ],
      "metadata": {
        "id": "KELb27ZOmWOn"
      }
    },
    {
      "cell_type": "code",
      "source": [
        "#Construir os parâmetros da estratégia\n",
        "\n",
        "ativo = 'PETR4.SA'\n",
        "intervalo = '1d'\n",
        "rapida = 21 \n",
        "lenta = 100\n",
        "janela_rsi = 21\n",
        "\n",
        "#Parâmetros Backtrader\n",
        "df_ativo=yf.download(ativo, '2010-01-01', '2020-01-01', auto_adjust=True, interval=intervalo)\n",
        "df_ativo.dropna(inplace=True)\n",
        "data2 = bt.feeds.PandasData(dataname=df_ativo)\n",
        "\n"
      ],
      "metadata": {
        "id": "JLR6EjDgR94c"
      },
      "execution_count": null,
      "outputs": []
    },
    {
      "cell_type": "code",
      "source": [
        "class cruzamento_mm_rsi(bt.Strategy):\n",
        "\n",
        "  def __init__(self):\n",
        "\n",
        "    self.rsi = bt.indicators.RSI(self.data.close, period=janela_rsi)\n",
        "    self.mm_venda = bt.indicators.SMA(self.data.close, period=venda)\n",
        "    self.mm_rapida = bt.indicators.SMA(self.data.close, period=rapida)\n",
        "    self.mm_lenta = bt.indicators.SMA(self.data.close, period=lenta)\n",
        "    self.crossup = bt.ind.CrossUp(self.mm_rapida, self.mm_lenta)\n",
        "    self.crossup_venda = bt.ind.CrossDown(self.mm_venda, self.mm_rapida)\n",
        "\n",
        "\n",
        "\n",
        "\n",
        "\n",
        "  def next(self):\n",
        "    if not self.position: #se não tiver alguma ordem aberta - condição de compra\n",
        "      if self.crossup == 1:\n",
        "        self.buy(size=100)\n",
        "\n",
        "    else: #caso a ordem já estiver aberta - condição de venda\n",
        "      if self.rsi > 65:\n",
        "        self.sell(size=100)\n",
        "  \n",
        "\n",
        "cerebro = bt.Cerebro()\n",
        "cerebro.addstrategy(cruzamento_mm_rsi)\n",
        "cerebro.adddata(data2)\n",
        "cerebro.run()\n",
        "plt.rcParams['figure.figsize'] = [30, 20]\n",
        "plt.rcParams.update({'font.size': 12}) \n",
        "cerebro.plot(iplot = False)"
      ],
      "metadata": {
        "id": "abrs91gvOCBE"
      },
      "execution_count": null,
      "outputs": []
    },
    {
      "cell_type": "code",
      "source": [
        "#Teste de robustez\n",
        "\n",
        "ativo = 'PETR4.SA'\n",
        "intervalo = '1d'\n",
        "df_ativo=yf.download(ativo, '2020-02-01', '2022-03-01', auto_adjust=True, interval=intervalo)\n",
        "df_ativo.dropna(inplace=True)\n",
        "data2 = bt.feeds.PandasData(dataname=df_ativo)\n",
        "venda = 7\n",
        "rapida = 21 \n",
        "lenta = 100\n",
        "janela_rsi = 21"
      ],
      "metadata": {
        "id": "0Knl3s_XX7S9"
      },
      "execution_count": null,
      "outputs": []
    },
    {
      "cell_type": "code",
      "source": [
        "import backtrader.analyzers as btanalyzers\n",
        "\n",
        "class rsi_media_movel(bt.Strategy):\n",
        "\n",
        "  def __init__(self):\n",
        "\n",
        "    self.rsi = bt.indicators.RSI(self.data.close, period=janela_rsi)\n",
        "    self.mm_venda = bt.indicators.SMA(self.data.close, period=venda)\n",
        "    self.mm_rapida = bt.indicators.SMA(self.data.close, period=rapida)\n",
        "    self.mm_lenta = bt.indicators.SMA(self.data.close, period=lenta)\n",
        "    self.crossup = bt.ind.CrossUp(self.mm_rapida, self.mm_lenta)\n",
        "    self.crossup_venda = bt.ind.CrossDown(self.mm_venda, self.mm_rapida)\n",
        "\n",
        "\n",
        "\n",
        "\n",
        "\n",
        "  def next(self):\n",
        "    if not self.position: #se não tiver alguma ordem aberta - condição de compra\n",
        "      if self.crossup == 1:\n",
        "        self.buy(size=100)\n",
        "\n",
        "    else: #caso a ordem já estiver aberta - condição de venda\n",
        "      if self.rsi > 65:\n",
        "        self.sell(size=100)\n",
        "  \n",
        "caixa_inicial = 30000 #definimos o montante a inicial do portfólio\n",
        "\n",
        "cerebro = bt.Cerebro()\n",
        "cerebro.addstrategy(rsi_media_movel)\n",
        "cerebro.adddata(data2)\n",
        "cerebro.run()\n",
        "plt.rcParams['figure.figsize'] = [30, 20]\n",
        "plt.rcParams.update({'font.size': 12}) \n",
        "cerebro.plot(iplot = False)"
      ],
      "metadata": {
        "id": "8WBhEXrYlZvo"
      },
      "execution_count": null,
      "outputs": []
    },
    {
      "cell_type": "code",
      "source": [
        ""
      ],
      "metadata": {
        "id": "TRFM5fqU6AxG"
      },
      "execution_count": null,
      "outputs": []
    }
  ]
}